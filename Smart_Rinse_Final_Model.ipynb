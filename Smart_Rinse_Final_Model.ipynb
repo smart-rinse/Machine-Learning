{
  "cells": [
    {
      "cell_type": "markdown",
      "id": "b88b9a18",
      "metadata": {
        "id": "b88b9a18"
      },
      "source": [
        "## Import Library & Cek Data"
      ]
    },
    {
      "cell_type": "code",
      "execution_count": 1,
      "id": "bb2d5ebf",
      "metadata": {
        "colab": {
          "base_uri": "https://localhost:8080/"
        },
        "id": "bb2d5ebf",
        "outputId": "716ef3eb-0884-4542-947b-c2b1c62eaaab"
      },
      "outputs": [
        {
          "output_type": "stream",
          "name": "stdout",
          "text": [
            "Mounted at /content/drive\n",
            "Looking in indexes: https://pypi.org/simple, https://us-python.pkg.dev/colab-wheels/public/simple/\n",
            "Collecting nlpaug\n",
            "  Downloading nlpaug-1.1.11-py3-none-any.whl (410 kB)\n",
            "\u001b[2K     \u001b[90m━━━━━━━━━━━━━━━━━━━━━━━━━━━━━━━━━━━━━━\u001b[0m \u001b[32m410.5/410.5 kB\u001b[0m \u001b[31m26.3 MB/s\u001b[0m eta \u001b[36m0:00:00\u001b[0m\n",
            "\u001b[?25hRequirement already satisfied: numpy>=1.16.2 in /usr/local/lib/python3.10/dist-packages (from nlpaug) (1.22.4)\n",
            "Requirement already satisfied: pandas>=1.2.0 in /usr/local/lib/python3.10/dist-packages (from nlpaug) (1.5.3)\n",
            "Requirement already satisfied: requests>=2.22.0 in /usr/local/lib/python3.10/dist-packages (from nlpaug) (2.27.1)\n",
            "Requirement already satisfied: gdown>=4.0.0 in /usr/local/lib/python3.10/dist-packages (from nlpaug) (4.6.6)\n",
            "Requirement already satisfied: filelock in /usr/local/lib/python3.10/dist-packages (from gdown>=4.0.0->nlpaug) (3.12.0)\n",
            "Requirement already satisfied: six in /usr/local/lib/python3.10/dist-packages (from gdown>=4.0.0->nlpaug) (1.16.0)\n",
            "Requirement already satisfied: tqdm in /usr/local/lib/python3.10/dist-packages (from gdown>=4.0.0->nlpaug) (4.65.0)\n",
            "Requirement already satisfied: beautifulsoup4 in /usr/local/lib/python3.10/dist-packages (from gdown>=4.0.0->nlpaug) (4.11.2)\n",
            "Requirement already satisfied: python-dateutil>=2.8.1 in /usr/local/lib/python3.10/dist-packages (from pandas>=1.2.0->nlpaug) (2.8.2)\n",
            "Requirement already satisfied: pytz>=2020.1 in /usr/local/lib/python3.10/dist-packages (from pandas>=1.2.0->nlpaug) (2022.7.1)\n",
            "Requirement already satisfied: urllib3<1.27,>=1.21.1 in /usr/local/lib/python3.10/dist-packages (from requests>=2.22.0->nlpaug) (1.26.15)\n",
            "Requirement already satisfied: certifi>=2017.4.17 in /usr/local/lib/python3.10/dist-packages (from requests>=2.22.0->nlpaug) (2022.12.7)\n",
            "Requirement already satisfied: charset-normalizer~=2.0.0 in /usr/local/lib/python3.10/dist-packages (from requests>=2.22.0->nlpaug) (2.0.12)\n",
            "Requirement already satisfied: idna<4,>=2.5 in /usr/local/lib/python3.10/dist-packages (from requests>=2.22.0->nlpaug) (3.4)\n",
            "Requirement already satisfied: soupsieve>1.2 in /usr/local/lib/python3.10/dist-packages (from beautifulsoup4->gdown>=4.0.0->nlpaug) (2.4.1)\n",
            "Requirement already satisfied: PySocks!=1.5.7,>=1.5.6 in /usr/local/lib/python3.10/dist-packages (from requests>=2.22.0->nlpaug) (1.7.1)\n",
            "Installing collected packages: nlpaug\n",
            "Successfully installed nlpaug-1.1.11\n",
            "Looking in indexes: https://pypi.org/simple, https://us-python.pkg.dev/colab-wheels/public/simple/\n",
            "Requirement already satisfied: gensim in /usr/local/lib/python3.10/dist-packages (4.3.1)\n",
            "Requirement already satisfied: numpy>=1.18.5 in /usr/local/lib/python3.10/dist-packages (from gensim) (1.22.4)\n",
            "Requirement already satisfied: scipy>=1.7.0 in /usr/local/lib/python3.10/dist-packages (from gensim) (1.10.1)\n",
            "Requirement already satisfied: smart-open>=1.8.1 in /usr/local/lib/python3.10/dist-packages (from gensim) (6.3.0)\n",
            "Looking in indexes: https://pypi.org/simple, https://us-python.pkg.dev/colab-wheels/public/simple/\n",
            "Collecting pickle-mixin\n",
            "  Downloading pickle-mixin-1.0.2.tar.gz (5.1 kB)\n",
            "  Preparing metadata (setup.py) ... \u001b[?25l\u001b[?25hdone\n",
            "Building wheels for collected packages: pickle-mixin\n",
            "  Building wheel for pickle-mixin (setup.py) ... \u001b[?25l\u001b[?25hdone\n",
            "  Created wheel for pickle-mixin: filename=pickle_mixin-1.0.2-py3-none-any.whl size=5990 sha256=6692dad143903d5d1e28e66fc6eb36cd13a9624edfd7cadebb8e2338e3a53e41\n",
            "  Stored in directory: /root/.cache/pip/wheels/3e/c6/e9/d1b0a34e1efc6c3ec9c086623972c6de6317faddb2af0a619c\n",
            "Successfully built pickle-mixin\n",
            "Installing collected packages: pickle-mixin\n",
            "Successfully installed pickle-mixin-1.0.2\n"
          ]
        }
      ],
      "source": [
        "import numpy as np\n",
        "import pandas as pd\n",
        "import matplotlib.pyplot as plt\n",
        "import tensorflow as tf\n",
        "from google.colab import drive\n",
        "drive.mount('/content/drive')\n",
        "!pip install nlpaug\n",
        "!pip install --upgrade gensim\n",
        "!pip install pickle-mixin\n",
        "import tensorflow as tf\n",
        "import nlpaug.augmenter.word as naw\n",
        "from tensorflow.keras.preprocessing.text import Tokenizer\n",
        "from tensorflow.keras.preprocessing.sequence import pad_sequences\n",
        "from sklearn.model_selection import KFold\n",
        "import numpy as np\n",
        "from gensim.models import Word2Vec\n",
        "import pickle"
      ]
    },
    {
      "cell_type": "code",
      "execution_count": 2,
      "id": "6f8eb0db",
      "metadata": {
        "colab": {
          "base_uri": "https://localhost:8080/",
          "height": 722
        },
        "id": "6f8eb0db",
        "outputId": "94a07cd5-7670-43d8-8652-5a730443640d"
      },
      "outputs": [
        {
          "output_type": "execute_result",
          "data": {
            "text/plain": [
              "  Tempat laundry dengan teknologi tinggi dan ditangani oleh tenaga profesional memberi jaminan kepuasan kepada para customer  \\\n",
              "0                Hasilnya sangat bagus dan memuaskan                                                                           \n",
              "1                      Hasil laundry bagus dan wangi                                                                           \n",
              "2                      Kurang bersih kadang nyucinya                                                                           \n",
              "3                     Pekerjaannya tidak tepat waktu                                                                           \n",
              "4  Beberapa baju kena pemutih spertinya jadi agak...                                                                           \n",
              "\n",
              "   1  \n",
              "0  1  \n",
              "1  1  \n",
              "2  0  \n",
              "3  0  \n",
              "4  0  "
            ],
            "text/html": [
              "\n",
              "  <div id=\"df-3b6949b6-0cc6-4306-8873-73da506acbf9\">\n",
              "    <div class=\"colab-df-container\">\n",
              "      <div>\n",
              "<style scoped>\n",
              "    .dataframe tbody tr th:only-of-type {\n",
              "        vertical-align: middle;\n",
              "    }\n",
              "\n",
              "    .dataframe tbody tr th {\n",
              "        vertical-align: top;\n",
              "    }\n",
              "\n",
              "    .dataframe thead th {\n",
              "        text-align: right;\n",
              "    }\n",
              "</style>\n",
              "<table border=\"1\" class=\"dataframe\">\n",
              "  <thead>\n",
              "    <tr style=\"text-align: right;\">\n",
              "      <th></th>\n",
              "      <th>Tempat laundry dengan teknologi tinggi dan ditangani oleh tenaga profesional memberi jaminan kepuasan kepada para customer</th>\n",
              "      <th>1</th>\n",
              "    </tr>\n",
              "  </thead>\n",
              "  <tbody>\n",
              "    <tr>\n",
              "      <th>0</th>\n",
              "      <td>Hasilnya sangat bagus dan memuaskan</td>\n",
              "      <td>1</td>\n",
              "    </tr>\n",
              "    <tr>\n",
              "      <th>1</th>\n",
              "      <td>Hasil laundry bagus dan wangi</td>\n",
              "      <td>1</td>\n",
              "    </tr>\n",
              "    <tr>\n",
              "      <th>2</th>\n",
              "      <td>Kurang bersih kadang nyucinya</td>\n",
              "      <td>0</td>\n",
              "    </tr>\n",
              "    <tr>\n",
              "      <th>3</th>\n",
              "      <td>Pekerjaannya tidak tepat waktu</td>\n",
              "      <td>0</td>\n",
              "    </tr>\n",
              "    <tr>\n",
              "      <th>4</th>\n",
              "      <td>Beberapa baju kena pemutih spertinya jadi agak...</td>\n",
              "      <td>0</td>\n",
              "    </tr>\n",
              "  </tbody>\n",
              "</table>\n",
              "</div>\n",
              "      <button class=\"colab-df-convert\" onclick=\"convertToInteractive('df-3b6949b6-0cc6-4306-8873-73da506acbf9')\"\n",
              "              title=\"Convert this dataframe to an interactive table.\"\n",
              "              style=\"display:none;\">\n",
              "        \n",
              "  <svg xmlns=\"http://www.w3.org/2000/svg\" height=\"24px\"viewBox=\"0 0 24 24\"\n",
              "       width=\"24px\">\n",
              "    <path d=\"M0 0h24v24H0V0z\" fill=\"none\"/>\n",
              "    <path d=\"M18.56 5.44l.94 2.06.94-2.06 2.06-.94-2.06-.94-.94-2.06-.94 2.06-2.06.94zm-11 1L8.5 8.5l.94-2.06 2.06-.94-2.06-.94L8.5 2.5l-.94 2.06-2.06.94zm10 10l.94 2.06.94-2.06 2.06-.94-2.06-.94-.94-2.06-.94 2.06-2.06.94z\"/><path d=\"M17.41 7.96l-1.37-1.37c-.4-.4-.92-.59-1.43-.59-.52 0-1.04.2-1.43.59L10.3 9.45l-7.72 7.72c-.78.78-.78 2.05 0 2.83L4 21.41c.39.39.9.59 1.41.59.51 0 1.02-.2 1.41-.59l7.78-7.78 2.81-2.81c.8-.78.8-2.07 0-2.86zM5.41 20L4 18.59l7.72-7.72 1.47 1.35L5.41 20z\"/>\n",
              "  </svg>\n",
              "      </button>\n",
              "      \n",
              "  <style>\n",
              "    .colab-df-container {\n",
              "      display:flex;\n",
              "      flex-wrap:wrap;\n",
              "      gap: 12px;\n",
              "    }\n",
              "\n",
              "    .colab-df-convert {\n",
              "      background-color: #E8F0FE;\n",
              "      border: none;\n",
              "      border-radius: 50%;\n",
              "      cursor: pointer;\n",
              "      display: none;\n",
              "      fill: #1967D2;\n",
              "      height: 32px;\n",
              "      padding: 0 0 0 0;\n",
              "      width: 32px;\n",
              "    }\n",
              "\n",
              "    .colab-df-convert:hover {\n",
              "      background-color: #E2EBFA;\n",
              "      box-shadow: 0px 1px 2px rgba(60, 64, 67, 0.3), 0px 1px 3px 1px rgba(60, 64, 67, 0.15);\n",
              "      fill: #174EA6;\n",
              "    }\n",
              "\n",
              "    [theme=dark] .colab-df-convert {\n",
              "      background-color: #3B4455;\n",
              "      fill: #D2E3FC;\n",
              "    }\n",
              "\n",
              "    [theme=dark] .colab-df-convert:hover {\n",
              "      background-color: #434B5C;\n",
              "      box-shadow: 0px 1px 3px 1px rgba(0, 0, 0, 0.15);\n",
              "      filter: drop-shadow(0px 1px 2px rgba(0, 0, 0, 0.3));\n",
              "      fill: #FFFFFF;\n",
              "    }\n",
              "  </style>\n",
              "\n",
              "      <script>\n",
              "        const buttonEl =\n",
              "          document.querySelector('#df-3b6949b6-0cc6-4306-8873-73da506acbf9 button.colab-df-convert');\n",
              "        buttonEl.style.display =\n",
              "          google.colab.kernel.accessAllowed ? 'block' : 'none';\n",
              "\n",
              "        async function convertToInteractive(key) {\n",
              "          const element = document.querySelector('#df-3b6949b6-0cc6-4306-8873-73da506acbf9');\n",
              "          const dataTable =\n",
              "            await google.colab.kernel.invokeFunction('convertToInteractive',\n",
              "                                                     [key], {});\n",
              "          if (!dataTable) return;\n",
              "\n",
              "          const docLinkHtml = 'Like what you see? Visit the ' +\n",
              "            '<a target=\"_blank\" href=https://colab.research.google.com/notebooks/data_table.ipynb>data table notebook</a>'\n",
              "            + ' to learn more about interactive tables.';\n",
              "          element.innerHTML = '';\n",
              "          dataTable['output_type'] = 'display_data';\n",
              "          await google.colab.output.renderOutput(dataTable, element);\n",
              "          const docLink = document.createElement('div');\n",
              "          docLink.innerHTML = docLinkHtml;\n",
              "          element.appendChild(docLink);\n",
              "        }\n",
              "      </script>\n",
              "    </div>\n",
              "  </div>\n",
              "  "
            ]
          },
          "metadata": {},
          "execution_count": 2
        }
      ],
      "source": [
        "df = pd.read_csv(\"/content/drive/MyDrive/dataset capstone/databaru.csv\")\n",
        "df.head()"
      ]
    },
    {
      "cell_type": "code",
      "execution_count": 3,
      "id": "07f40bd7",
      "metadata": {
        "colab": {
          "base_uri": "https://localhost:8080/"
        },
        "id": "07f40bd7",
        "outputId": "dc1691af-dec4-4b89-fd19-407f9f52b2c9"
      },
      "outputs": [
        {
          "output_type": "execute_result",
          "data": {
            "text/plain": [
              "Tempat laundry dengan teknologi tinggi dan ditangani oleh tenaga profesional memberi jaminan kepuasan kepada para customer    object\n",
              "1                                                                                                                              int64\n",
              "dtype: object"
            ]
          },
          "metadata": {},
          "execution_count": 3
        }
      ],
      "source": [
        "df.dtypes"
      ]
    },
    {
      "cell_type": "code",
      "execution_count": 4,
      "id": "4621ac14",
      "metadata": {
        "id": "4621ac14"
      },
      "outputs": [],
      "source": [
        "df.columns= [\"text\", \"target\"]"
      ]
    },
    {
      "cell_type": "code",
      "execution_count": 5,
      "id": "ec7f727d",
      "metadata": {
        "colab": {
          "base_uri": "https://localhost:8080/",
          "height": 90
        },
        "id": "ec7f727d",
        "outputId": "c012f497-405e-4f4f-f557-d58dbf069054"
      },
      "outputs": [
        {
          "output_type": "execute_result",
          "data": {
            "text/plain": [
              "<Axes: >"
            ]
          },
          "metadata": {},
          "execution_count": 5
        },
        {
          "output_type": "display_data",
          "data": {
            "text/plain": [
              "<Figure size 640x480 with 1 Axes>"
            ],
            "image/png": "[encoded data removed]"
          },
          "metadata": {}
        }
      ],
      "source": [
        "df[\"target\"].value_counts().plot(kind=\"bar\")"
      ]
    },
    {
      "cell_type": "markdown",
      "id": "9d4ccd44",
      "metadata": {
        "id": "9d4ccd44"
      },
      "source": [
        "## Preprocessing"
      ]
    },
    {
      "cell_type": "markdown",
      "id": "974c580b",
      "metadata": {
        "id": "974c580b"
      },
      "source": [
        "### Case Folding"
      ]
    },
    {
      "cell_type": "code",
      "execution_count": 6,
      "id": "c1a2a9c5",
      "metadata": {
        "colab": {
          "base_uri": "https://localhost:8080/"
        },
        "id": "c1a2a9c5",
        "outputId": "41478f51-b084-4268-f365-3b99b05b2343"
      },
      "outputs": [
        {
          "output_type": "stream",
          "name": "stdout",
          "text": [
            "                                                   text  target\n",
            "0                   Hasilnya sangat bagus dan memuaskan       1\n",
            "1                         Hasil laundry bagus dan wangi       1\n",
            "2                         Kurang bersih kadang nyucinya       0\n",
            "3                        Pekerjaannya tidak tepat waktu       0\n",
            "4     Beberapa baju kena pemutih spertinya jadi agak...       0\n",
            "...                                                 ...     ...\n",
            "2594  Pakaian saya selalu dijaga agar tetap awet dan...       1\n",
            "2595  Laundry ini memiliki tim yang terampil dan ber...       1\n",
            "2596  Mereka memberikan layanan penanganan noda yang...       1\n",
            "2597  Layanan pengeringan mereka dilakukan dengan ha...       1\n",
            "2598  Saya merasa sangat nyaman menggunakan layanan ...       1\n",
            "\n",
            "[2599 rows x 2 columns]\n"
          ]
        }
      ],
      "source": [
        "print(df)"
      ]
    },
    {
      "cell_type": "code",
      "execution_count": 7,
      "id": "9a5aa0c5",
      "metadata": {
        "id": "9a5aa0c5"
      },
      "outputs": [],
      "source": [
        "import re"
      ]
    },
    {
      "cell_type": "code",
      "execution_count": 8,
      "id": "7c47b4bd",
      "metadata": {
        "colab": {
          "base_uri": "https://localhost:8080/"
        },
        "id": "7c47b4bd",
        "outputId": "6c2faa77-ace0-4caa-eb99-7df7b19be6cf"
      },
      "outputs": [
        {
          "output_type": "stream",
          "name": "stdout",
          "text": [
            "                                                   text  target\n",
            "0                   hasilnya sangat bagus dan memuaskan       1\n",
            "1                         hasil laundry bagus dan wangi       1\n",
            "2                         kurang bersih kadang nyucinya       0\n",
            "3                        pekerjaannya tidak tepat waktu       0\n",
            "4     beberapa baju kena pemutih spertinya jadi agak...       0\n",
            "...                                                 ...     ...\n",
            "2594  pakaian saya selalu dijaga agar tetap awet dan...       1\n",
            "2595  laundry ini memiliki tim yang terampil dan ber...       1\n",
            "2596  mereka memberikan layanan penanganan noda yang...       1\n",
            "2597  layanan pengeringan mereka dilakukan dengan ha...       1\n",
            "2598  saya merasa sangat nyaman menggunakan layanan ...       1\n",
            "\n",
            "[2599 rows x 2 columns]\n"
          ]
        }
      ],
      "source": [
        "#Mengubah menjadi huruf kecil semua\n",
        "df['text'] = df['text'].apply(lambda x: x.lower())\n",
        "print(df)"
      ]
    },
    {
      "cell_type": "markdown",
      "id": "fdc107f9",
      "metadata": {
        "id": "fdc107f9"
      },
      "source": [
        "### Data Cleaning"
      ]
    },
    {
      "cell_type": "code",
      "execution_count": 9,
      "id": "31650e41",
      "metadata": {
        "colab": {
          "base_uri": "https://localhost:8080/"
        },
        "id": "31650e41",
        "outputId": "78b52df9-c7b1-440b-eb96-fd488d0b55a3"
      },
      "outputs": [
        {
          "output_type": "stream",
          "name": "stdout",
          "text": [
            "                                                   text  target\n",
            "0                   hasilnya sangat bagus dan memuaskan       1\n",
            "1                         hasil laundry bagus dan wangi       1\n",
            "2                         kurang bersih kadang nyucinya       0\n",
            "3                        pekerjaannya tidak tepat waktu       0\n",
            "4     beberapa baju kena pemutih spertinya jadi agak...       0\n",
            "...                                                 ...     ...\n",
            "2594  pakaian saya selalu dijaga agar tetap awet dan...       1\n",
            "2595  laundry ini memiliki tim yang terampil dan ber...       1\n",
            "2596  mereka memberikan layanan penanganan noda yang...       1\n",
            "2597  layanan pengeringan mereka dilakukan dengan ha...       1\n",
            "2598  saya merasa sangat nyaman menggunakan layanan ...       1\n",
            "\n",
            "[2599 rows x 2 columns]\n"
          ]
        }
      ],
      "source": [
        "#menghapus karakter dan tanda baca yang tidak diinginkan\n",
        "df['text'] = df['text'].apply(lambda x: re.sub(r'[^a-zA-Z0-9\\s]', '', x))\n",
        "print(df)"
      ]
    },
    {
      "cell_type": "code",
      "execution_count": 10,
      "id": "b126884f",
      "metadata": {
        "colab": {
          "base_uri": "https://localhost:8080/",
          "height": 35
        },
        "id": "b126884f",
        "outputId": "bdea406e-1e27-4491-fbf6-737c708302dc"
      },
      "outputs": [
        {
          "output_type": "execute_result",
          "data": {
            "text/plain": [
              "'cepat bersih respon baik terima kasih'"
            ],
            "application/vnd.google.colaboratory.intrinsic+json": {
              "type": "string"
            }
          },
          "metadata": {},
          "execution_count": 10
        }
      ],
      "source": [
        "df.loc[40, 'text']"
      ]
    },
    {
      "cell_type": "code",
      "execution_count": 11,
      "id": "e7fb97d2",
      "metadata": {
        "colab": {
          "base_uri": "https://localhost:8080/"
        },
        "id": "e7fb97d2",
        "outputId": "e5fa6458-19ec-41f7-f43d-9abcd2cbc069"
      },
      "outputs": [
        {
          "output_type": "stream",
          "name": "stderr",
          "text": [
            "<ipython-input-11-643fac20faa4>:2: FutureWarning: The default value of regex will change from True to False in a future version.\n",
            "  df['text'] = df['text'].str.replace(r'\\s+', ' ')\n"
          ]
        }
      ],
      "source": [
        "#menghapus spasi berlebih\n",
        "df['text'] = df['text'].str.replace(r'\\s+', ' ')"
      ]
    },
    {
      "cell_type": "code",
      "execution_count": 12,
      "id": "a2f2677a",
      "metadata": {
        "colab": {
          "base_uri": "https://localhost:8080/",
          "height": 35
        },
        "id": "a2f2677a",
        "outputId": "fe63fe25-f58d-4aee-d352-6a33531dc03a"
      },
      "outputs": [
        {
          "output_type": "execute_result",
          "data": {
            "text/plain": [
              "'cepat bersih respon baik terima kasih'"
            ],
            "application/vnd.google.colaboratory.intrinsic+json": {
              "type": "string"
            }
          },
          "metadata": {},
          "execution_count": 12
        }
      ],
      "source": [
        "df.loc[40, 'text']"
      ]
    },
    {
      "cell_type": "markdown",
      "id": "6663b6dd",
      "metadata": {
        "id": "6663b6dd"
      },
      "source": [
        "### N-Gram"
      ]
    },
    {
      "cell_type": "code",
      "execution_count": 13,
      "id": "97ed971e",
      "metadata": {
        "colab": {
          "base_uri": "https://localhost:8080/"
        },
        "id": "97ed971e",
        "outputId": "22fa92ab-43ae-4a08-9e54-aaabf1b2f6f8"
      },
      "outputs": [
        {
          "output_type": "stream",
          "name": "stdout",
          "text": [
            "                                                   text  target\n",
            "0                   hasilnya sangat bagus dan memuaskan       1\n",
            "1                         hasil laundry bagus dan wangi       1\n",
            "2                         kurang bersih kadang nyucinya       0\n",
            "3                        pekerjaannya tidak tepat waktu       0\n",
            "4     beberapa baju kena pemutih spertinya jadi agak...       0\n",
            "...                                                 ...     ...\n",
            "2594  pakaian saya selalu dijaga agar tetap awet dan...       1\n",
            "2595  laundry ini memiliki tim yang terampil dan ber...       1\n",
            "2596  mereka memberikan layanan penanganan noda yang...       1\n",
            "2597  layanan pengeringan mereka dilakukan dengan ha...       1\n",
            "2598  saya merasa sangat nyaman menggunakan layanan ...       1\n",
            "\n",
            "[2599 rows x 2 columns]\n"
          ]
        }
      ],
      "source": [
        "print(df)"
      ]
    },
    {
      "cell_type": "code",
      "execution_count": 14,
      "id": "acffb437",
      "metadata": {
        "colab": {
          "base_uri": "https://localhost:8080/"
        },
        "id": "acffb437",
        "outputId": "6713aa18-115a-4dc0-a581-da5150c4901f"
      },
      "outputs": [
        {
          "output_type": "stream",
          "name": "stderr",
          "text": [
            "[nltk_data] Downloading package punkt to /root/nltk_data...\n",
            "[nltk_data]   Unzipping tokenizers/punkt.zip.\n"
          ]
        }
      ],
      "source": [
        "import nltk\n",
        "nltk.download('punkt')\n",
        "from nltk.corpus import stopwords"
      ]
    },
    {
      "cell_type": "code",
      "execution_count": 15,
      "id": "40d78b30",
      "metadata": {
        "id": "40d78b30"
      },
      "outputs": [],
      "source": [
        "from nltk.util import ngrams\n",
        "from nltk.tokenize import word_tokenize"
      ]
    },
    {
      "cell_type": "code",
      "source": [],
      "metadata": {
        "id": "hfIommQewTBZ"
      },
      "id": "hfIommQewTBZ",
      "execution_count": 15,
      "outputs": []
    },
    {
      "cell_type": "code",
      "execution_count": 16,
      "id": "b63d2dc8",
      "metadata": {
        "colab": {
          "base_uri": "https://localhost:8080/"
        },
        "id": "b63d2dc8",
        "outputId": "1360a3e9-608f-4aa6-d146-1d7afe4bb784"
      },
      "outputs": [
        {
          "output_type": "stream",
          "name": "stdout",
          "text": [
            "                                                   text  target  \\\n",
            "0                   hasilnya sangat bagus dan memuaskan       1   \n",
            "1                         hasil laundry bagus dan wangi       1   \n",
            "2                         kurang bersih kadang nyucinya       0   \n",
            "3                        pekerjaannya tidak tepat waktu       0   \n",
            "4     beberapa baju kena pemutih spertinya jadi agak...       0   \n",
            "...                                                 ...     ...   \n",
            "2594  pakaian saya selalu dijaga agar tetap awet dan...       1   \n",
            "2595  laundry ini memiliki tim yang terampil dan ber...       1   \n",
            "2596  mereka memberikan layanan penanganan noda yang...       1   \n",
            "2597  layanan pengeringan mereka dilakukan dengan ha...       1   \n",
            "2598  saya merasa sangat nyaman menggunakan layanan ...       1   \n",
            "\n",
            "                                                 Tokens  \\\n",
            "0             [hasilnya, sangat, bagus, dan, memuaskan]   \n",
            "1                   [hasil, laundry, bagus, dan, wangi]   \n",
            "2                    [kurang, bersih, kadang, nyucinya]   \n",
            "3                   [pekerjaannya, tidak, tepat, waktu]   \n",
            "4     [beberapa, baju, kena, pemutih, spertinya, jad...   \n",
            "...                                                 ...   \n",
            "2594  [pakaian, saya, selalu, dijaga, agar, tetap, a...   \n",
            "2595  [laundry, ini, memiliki, tim, yang, terampil, ...   \n",
            "2596  [mereka, memberikan, layanan, penanganan, noda...   \n",
            "2597  [layanan, pengeringan, mereka, dilakukan, deng...   \n",
            "2598  [saya, merasa, sangat, nyaman, menggunakan, la...   \n",
            "\n",
            "                                        Combined_Tokens  \n",
            "0              [hasilnya, sangat_bagus, dan, memuaskan]  \n",
            "1                   [hasil, laundry, bagus, dan, wangi]  \n",
            "2                      [kurang_bersih, kadang_nyucinya]  \n",
            "3                    [pekerjaannya, tidak_tepat, waktu]  \n",
            "4     [beberapa, baju, kena, pemutih, spertinya, jad...  \n",
            "...                                                 ...  \n",
            "2594  [pakaian, saya, selalu, dijaga, agar, tetap, a...  \n",
            "2595  [laundry, ini, memiliki, tim, yang, terampil, ...  \n",
            "2596  [mereka, memberikan, layanan, penanganan, noda...  \n",
            "2597  [layanan, pengeringan, mereka, dilakukan, deng...  \n",
            "2598  [saya, merasa, sangat_nyaman, menggunakan, lay...  \n",
            "\n",
            "[2599 rows x 4 columns]\n"
          ]
        }
      ],
      "source": [
        "# Menggabungkan kata-kata penting dengan kata-kata yang mengikuti menggunakan teknik N-gram\n",
        "def combine_important_words(tokens):\n",
        "    combined_tokens = []\n",
        "    skip_next = False\n",
        "    for i in range(len(tokens) - 1):\n",
        "        if skip_next:\n",
        "            skip_next = False\n",
        "            continue\n",
        "        if tokens[i] in ['tidak', 'kurang', 'gak', 'sangat', 'banget', 'kadang', 'terlalu','yg','gk']:\n",
        "            combined_tokens.append(tokens[i] + '_' + tokens[i+1])\n",
        "            skip_next = True\n",
        "        else:\n",
        "            combined_tokens.append(tokens[i])\n",
        "    if not skip_next:\n",
        "        combined_tokens.append(tokens[-1])\n",
        "    return combined_tokens\n",
        "\n",
        "df['Tokens'] = df['text'].apply(word_tokenize)\n",
        "df['Combined_Tokens'] = df['Tokens'].apply(combine_important_words)\n",
        "\n",
        "print(df)"
      ]
    },
    {
      "cell_type": "markdown",
      "id": "c4011827",
      "metadata": {
        "id": "c4011827"
      },
      "source": [
        "### Stopword Removal"
      ]
    },
    {
      "cell_type": "code",
      "execution_count": 17,
      "id": "b00e74b3",
      "metadata": {
        "colab": {
          "base_uri": "https://localhost:8080/",
          "height": 206
        },
        "id": "b00e74b3",
        "outputId": "91354d9a-1c30-442a-fcdc-95bf50a252c0"
      },
      "outputs": [
        {
          "output_type": "execute_result",
          "data": {
            "text/plain": [
              "                                                text  target  \\\n",
              "0                hasilnya sangat bagus dan memuaskan       1   \n",
              "1                      hasil laundry bagus dan wangi       1   \n",
              "2                      kurang bersih kadang nyucinya       0   \n",
              "3                     pekerjaannya tidak tepat waktu       0   \n",
              "4  beberapa baju kena pemutih spertinya jadi agak...       0   \n",
              "\n",
              "                                              Tokens  \\\n",
              "0          [hasilnya, sangat, bagus, dan, memuaskan]   \n",
              "1                [hasil, laundry, bagus, dan, wangi]   \n",
              "2                 [kurang, bersih, kadang, nyucinya]   \n",
              "3                [pekerjaannya, tidak, tepat, waktu]   \n",
              "4  [beberapa, baju, kena, pemutih, spertinya, jad...   \n",
              "\n",
              "                                     Combined_Tokens  \n",
              "0           [hasilnya, sangat_bagus, dan, memuaskan]  \n",
              "1                [hasil, laundry, bagus, dan, wangi]  \n",
              "2                   [kurang_bersih, kadang_nyucinya]  \n",
              "3                 [pekerjaannya, tidak_tepat, waktu]  \n",
              "4  [beberapa, baju, kena, pemutih, spertinya, jad...  "
            ],
            "text/html": [
              "\n",
              "  <div id=\"df-a62840fa-0821-4170-9321-60dfe5998c8e\">\n",
              "    <div class=\"colab-df-container\">\n",
              "      <div>\n",
              "<style scoped>\n",
              "    .dataframe tbody tr th:only-of-type {\n",
              "        vertical-align: middle;\n",
              "    }\n",
              "\n",
              "    .dataframe tbody tr th {\n",
              "        vertical-align: top;\n",
              "    }\n",
              "\n",
              "    .dataframe thead th {\n",
              "        text-align: right;\n",
              "    }\n",
              "</style>\n",
              "<table border=\"1\" class=\"dataframe\">\n",
              "  <thead>\n",
              "    <tr style=\"text-align: right;\">\n",
              "      <th></th>\n",
              "      <th>text</th>\n",
              "      <th>target</th>\n",
              "      <th>Tokens</th>\n",
              "      <th>Combined_Tokens</th>\n",
              "    </tr>\n",
              "  </thead>\n",
              "  <tbody>\n",
              "    <tr>\n",
              "      <th>0</th>\n",
              "      <td>hasilnya sangat bagus dan memuaskan</td>\n",
              "      <td>1</td>\n",
              "      <td>[hasilnya, sangat, bagus, dan, memuaskan]</td>\n",
              "      <td>[hasilnya, sangat_bagus, dan, memuaskan]</td>\n",
              "    </tr>\n",
              "    <tr>\n",
              "      <th>1</th>\n",
              "      <td>hasil laundry bagus dan wangi</td>\n",
              "      <td>1</td>\n",
              "      <td>[hasil, laundry, bagus, dan, wangi]</td>\n",
              "      <td>[hasil, laundry, bagus, dan, wangi]</td>\n",
              "    </tr>\n",
              "    <tr>\n",
              "      <th>2</th>\n",
              "      <td>kurang bersih kadang nyucinya</td>\n",
              "      <td>0</td>\n",
              "      <td>[kurang, bersih, kadang, nyucinya]</td>\n",
              "      <td>[kurang_bersih, kadang_nyucinya]</td>\n",
              "    </tr>\n",
              "    <tr>\n",
              "      <th>3</th>\n",
              "      <td>pekerjaannya tidak tepat waktu</td>\n",
              "      <td>0</td>\n",
              "      <td>[pekerjaannya, tidak, tepat, waktu]</td>\n",
              "      <td>[pekerjaannya, tidak_tepat, waktu]</td>\n",
              "    </tr>\n",
              "    <tr>\n",
              "      <th>4</th>\n",
              "      <td>beberapa baju kena pemutih spertinya jadi agak...</td>\n",
              "      <td>0</td>\n",
              "      <td>[beberapa, baju, kena, pemutih, spertinya, jad...</td>\n",
              "      <td>[beberapa, baju, kena, pemutih, spertinya, jad...</td>\n",
              "    </tr>\n",
              "  </tbody>\n",
              "</table>\n",
              "</div>\n",
              "      <button class=\"colab-df-convert\" onclick=\"convertToInteractive('df-a62840fa-0821-4170-9321-60dfe5998c8e')\"\n",
              "              title=\"Convert this dataframe to an interactive table.\"\n",
              "              style=\"display:none;\">\n",
              "        \n",
              "  <svg xmlns=\"http://www.w3.org/2000/svg\" height=\"24px\"viewBox=\"0 0 24 24\"\n",
              "       width=\"24px\">\n",
              "    <path d=\"M0 0h24v24H0V0z\" fill=\"none\"/>\n",
              "    <path d=\"M18.56 5.44l.94 2.06.94-2.06 2.06-.94-2.06-.94-.94-2.06-.94 2.06-2.06.94zm-11 1L8.5 8.5l.94-2.06 2.06-.94-2.06-.94L8.5 2.5l-.94 2.06-2.06.94zm10 10l.94 2.06.94-2.06 2.06-.94-2.06-.94-.94-2.06-.94 2.06-2.06.94z\"/><path d=\"M17.41 7.96l-1.37-1.37c-.4-.4-.92-.59-1.43-.59-.52 0-1.04.2-1.43.59L10.3 9.45l-7.72 7.72c-.78.78-.78 2.05 0 2.83L4 21.41c.39.39.9.59 1.41.59.51 0 1.02-.2 1.41-.59l7.78-7.78 2.81-2.81c.8-.78.8-2.07 0-2.86zM5.41 20L4 18.59l7.72-7.72 1.47 1.35L5.41 20z\"/>\n",
              "  </svg>\n",
              "      </button>\n",
              "      \n",
              "  <style>\n",
              "    .colab-df-container {\n",
              "      display:flex;\n",
              "      flex-wrap:wrap;\n",
              "      gap: 12px;\n",
              "    }\n",
              "\n",
              "    .colab-df-convert {\n",
              "      background-color: #E8F0FE;\n",
              "      border: none;\n",
              "      border-radius: 50%;\n",
              "      cursor: pointer;\n",
              "      display: none;\n",
              "      fill: #1967D2;\n",
              "      height: 32px;\n",
              "      padding: 0 0 0 0;\n",
              "      width: 32px;\n",
              "    }\n",
              "\n",
              "    .colab-df-convert:hover {\n",
              "      background-color: #E2EBFA;\n",
              "      box-shadow: 0px 1px 2px rgba(60, 64, 67, 0.3), 0px 1px 3px 1px rgba(60, 64, 67, 0.15);\n",
              "      fill: #174EA6;\n",
              "    }\n",
              "\n",
              "    [theme=dark] .colab-df-convert {\n",
              "      background-color: #3B4455;\n",
              "      fill: #D2E3FC;\n",
              "    }\n",
              "\n",
              "    [theme=dark] .colab-df-convert:hover {\n",
              "      background-color: #434B5C;\n",
              "      box-shadow: 0px 1px 3px 1px rgba(0, 0, 0, 0.15);\n",
              "      filter: drop-shadow(0px 1px 2px rgba(0, 0, 0, 0.3));\n",
              "      fill: #FFFFFF;\n",
              "    }\n",
              "  </style>\n",
              "\n",
              "      <script>\n",
              "        const buttonEl =\n",
              "          document.querySelector('#df-a62840fa-0821-4170-9321-60dfe5998c8e button.colab-df-convert');\n",
              "        buttonEl.style.display =\n",
              "          google.colab.kernel.accessAllowed ? 'block' : 'none';\n",
              "\n",
              "        async function convertToInteractive(key) {\n",
              "          const element = document.querySelector('#df-a62840fa-0821-4170-9321-60dfe5998c8e');\n",
              "          const dataTable =\n",
              "            await google.colab.kernel.invokeFunction('convertToInteractive',\n",
              "                                                     [key], {});\n",
              "          if (!dataTable) return;\n",
              "\n",
              "          const docLinkHtml = 'Like what you see? Visit the ' +\n",
              "            '<a target=\"_blank\" href=https://colab.research.google.com/notebooks/data_table.ipynb>data table notebook</a>'\n",
              "            + ' to learn more about interactive tables.';\n",
              "          element.innerHTML = '';\n",
              "          dataTable['output_type'] = 'display_data';\n",
              "          await google.colab.output.renderOutput(dataTable, element);\n",
              "          const docLink = document.createElement('div');\n",
              "          docLink.innerHTML = docLinkHtml;\n",
              "          element.appendChild(docLink);\n",
              "        }\n",
              "      </script>\n",
              "    </div>\n",
              "  </div>\n",
              "  "
            ]
          },
          "metadata": {},
          "execution_count": 17
        }
      ],
      "source": [
        "df.head()"
      ]
    },
    {
      "cell_type": "code",
      "source": [
        "nltk.download('stopwords')"
      ],
      "metadata": {
        "colab": {
          "base_uri": "https://localhost:8080/"
        },
        "id": "d84KK9i5wfOi",
        "outputId": "4d3dadee-1074-4967-fc34-30df2136de58"
      },
      "id": "d84KK9i5wfOi",
      "execution_count": 18,
      "outputs": [
        {
          "output_type": "stream",
          "name": "stderr",
          "text": [
            "[nltk_data] Downloading package stopwords to /root/nltk_data...\n",
            "[nltk_data]   Unzipping corpora/stopwords.zip.\n"
          ]
        },
        {
          "output_type": "execute_result",
          "data": {
            "text/plain": [
              "True"
            ]
          },
          "metadata": {},
          "execution_count": 18
        }
      ]
    },
    {
      "cell_type": "code",
      "execution_count": 19,
      "id": "a6f309de",
      "metadata": {
        "colab": {
          "base_uri": "https://localhost:8080/"
        },
        "id": "a6f309de",
        "outputId": "32ea095f-f87d-44e8-ddf4-797d090dac08"
      },
      "outputs": [
        {
          "output_type": "stream",
          "name": "stdout",
          "text": [
            "                                                   text  target  \\\n",
            "0                   hasilnya sangat bagus dan memuaskan       1   \n",
            "1                         hasil laundry bagus dan wangi       1   \n",
            "2                         kurang bersih kadang nyucinya       0   \n",
            "3                        pekerjaannya tidak tepat waktu       0   \n",
            "4     beberapa baju kena pemutih spertinya jadi agak...       0   \n",
            "...                                                 ...     ...   \n",
            "2594  pakaian saya selalu dijaga agar tetap awet dan...       1   \n",
            "2595  laundry ini memiliki tim yang terampil dan ber...       1   \n",
            "2596  mereka memberikan layanan penanganan noda yang...       1   \n",
            "2597  layanan pengeringan mereka dilakukan dengan ha...       1   \n",
            "2598  saya merasa sangat nyaman menggunakan layanan ...       1   \n",
            "\n",
            "                                                 Tokens  \\\n",
            "0             [hasilnya, sangat, bagus, dan, memuaskan]   \n",
            "1                   [hasil, laundry, bagus, dan, wangi]   \n",
            "2                    [kurang, bersih, kadang, nyucinya]   \n",
            "3                   [pekerjaannya, tidak, tepat, waktu]   \n",
            "4     [beberapa, baju, kena, pemutih, spertinya, jad...   \n",
            "...                                                 ...   \n",
            "2594  [pakaian, saya, selalu, dijaga, agar, tetap, a...   \n",
            "2595  [laundry, ini, memiliki, tim, yang, terampil, ...   \n",
            "2596  [mereka, memberikan, layanan, penanganan, noda...   \n",
            "2597  [layanan, pengeringan, mereka, dilakukan, deng...   \n",
            "2598  [saya, merasa, sangat, nyaman, menggunakan, la...   \n",
            "\n",
            "                                        Combined_Tokens  \\\n",
            "0              [hasilnya, sangat_bagus, dan, memuaskan]   \n",
            "1                   [hasil, laundry, bagus, dan, wangi]   \n",
            "2                      [kurang_bersih, kadang_nyucinya]   \n",
            "3                    [pekerjaannya, tidak_tepat, waktu]   \n",
            "4     [beberapa, baju, kena, pemutih, spertinya, jad...   \n",
            "...                                                 ...   \n",
            "2594  [pakaian, saya, selalu, dijaga, agar, tetap, a...   \n",
            "2595  [laundry, ini, memiliki, tim, yang, terampil, ...   \n",
            "2596  [mereka, memberikan, layanan, penanganan, noda...   \n",
            "2597  [layanan, pengeringan, mereka, dilakukan, deng...   \n",
            "2598  [saya, merasa, sangat_nyaman, menggunakan, lay...   \n",
            "\n",
            "                                           Clean_Tokens  \\\n",
            "0                   [hasilnya, sangat_bagus, memuaskan]   \n",
            "1                        [hasil, laundry, bagus, wangi]   \n",
            "2                      [kurang_bersih, kadang_nyucinya]   \n",
            "3                           [pekerjaannya, tidak_tepat]   \n",
            "4              [baju, kena, pemutih, spertinya, luntur]   \n",
            "...                                                 ...   \n",
            "2594  [pakaian, dijaga, awet, tahan, perlindungan, t...   \n",
            "2595  [laundry, memiliki, tim, terampil, berpengalam...   \n",
            "2596  [layanan, penanganan, noda, efektif, menghilan...   \n",
            "2597  [layanan, pengeringan, hatihati, menjaga, kele...   \n",
            "2598  [sangat_nyaman, layanan, laundry, hasil, memua...   \n",
            "\n",
            "                                             clean_text  \n",
            "0                       hasilnya sangat_bagus memuaskan  \n",
            "1                             hasil laundry bagus wangi  \n",
            "2                         kurang_bersih kadang_nyucinya  \n",
            "3                              pekerjaannya tidak_tepat  \n",
            "4                    baju kena pemutih spertinya luntur  \n",
            "...                                                 ...  \n",
            "2594    pakaian dijaga awet tahan perlindungan tambahan  \n",
            "2595  laundry memiliki tim terampil berpengalaman me...  \n",
            "2596  layanan penanganan noda efektif menghilangkan ...  \n",
            "2597  layanan pengeringan hatihati menjaga kelembuta...  \n",
            "2598      sangat_nyaman layanan laundry hasil memuaskan  \n",
            "\n",
            "[2599 rows x 6 columns]\n"
          ]
        }
      ],
      "source": [
        "stopwords_ind = stopwords.words('indonesian')\n",
        "df['Clean_Tokens'] = df['Combined_Tokens'].apply(lambda x: [word for word in x if word.lower() not in stopwords_ind])\n",
        "\n",
        "# Mengembalikan teks review dari N-gram yang telah dihapus stopword\n",
        "df['clean_text'] = df['Clean_Tokens'].apply(lambda x: ' '.join(x))\n",
        "\n",
        "print(df)"
      ]
    },
    {
      "cell_type": "code",
      "execution_count": 20,
      "id": "19d12c31",
      "metadata": {
        "colab": {
          "base_uri": "https://localhost:8080/",
          "height": 302
        },
        "id": "19d12c31",
        "outputId": "686f031b-54dc-40ba-8199-7862d0c0079d"
      },
      "outputs": [
        {
          "output_type": "execute_result",
          "data": {
            "text/plain": [
              "                                                text  target  \\\n",
              "0                hasilnya sangat bagus dan memuaskan       1   \n",
              "1                      hasil laundry bagus dan wangi       1   \n",
              "2                      kurang bersih kadang nyucinya       0   \n",
              "3                     pekerjaannya tidak tepat waktu       0   \n",
              "4  beberapa baju kena pemutih spertinya jadi agak...       0   \n",
              "\n",
              "                                              Tokens  \\\n",
              "0          [hasilnya, sangat, bagus, dan, memuaskan]   \n",
              "1                [hasil, laundry, bagus, dan, wangi]   \n",
              "2                 [kurang, bersih, kadang, nyucinya]   \n",
              "3                [pekerjaannya, tidak, tepat, waktu]   \n",
              "4  [beberapa, baju, kena, pemutih, spertinya, jad...   \n",
              "\n",
              "                                     Combined_Tokens  \\\n",
              "0           [hasilnya, sangat_bagus, dan, memuaskan]   \n",
              "1                [hasil, laundry, bagus, dan, wangi]   \n",
              "2                   [kurang_bersih, kadang_nyucinya]   \n",
              "3                 [pekerjaannya, tidak_tepat, waktu]   \n",
              "4  [beberapa, baju, kena, pemutih, spertinya, jad...   \n",
              "\n",
              "                               Clean_Tokens  \\\n",
              "0       [hasilnya, sangat_bagus, memuaskan]   \n",
              "1            [hasil, laundry, bagus, wangi]   \n",
              "2          [kurang_bersih, kadang_nyucinya]   \n",
              "3               [pekerjaannya, tidak_tepat]   \n",
              "4  [baju, kena, pemutih, spertinya, luntur]   \n",
              "\n",
              "                           clean_text  \n",
              "0     hasilnya sangat_bagus memuaskan  \n",
              "1           hasil laundry bagus wangi  \n",
              "2       kurang_bersih kadang_nyucinya  \n",
              "3            pekerjaannya tidak_tepat  \n",
              "4  baju kena pemutih spertinya luntur  "
            ],
            "text/html": [
              "\n",
              "  <div id=\"df-ef660e33-18b9-4ba7-90f8-39b5357d82f4\">\n",
              "    <div class=\"colab-df-container\">\n",
              "      <div>\n",
              "<style scoped>\n",
              "    .dataframe tbody tr th:only-of-type {\n",
              "        vertical-align: middle;\n",
              "    }\n",
              "\n",
              "    .dataframe tbody tr th {\n",
              "        vertical-align: top;\n",
              "    }\n",
              "\n",
              "    .dataframe thead th {\n",
              "        text-align: right;\n",
              "    }\n",
              "</style>\n",
              "<table border=\"1\" class=\"dataframe\">\n",
              "  <thead>\n",
              "    <tr style=\"text-align: right;\">\n",
              "      <th></th>\n",
              "      <th>text</th>\n",
              "      <th>target</th>\n",
              "      <th>Tokens</th>\n",
              "      <th>Combined_Tokens</th>\n",
              "      <th>Clean_Tokens</th>\n",
              "      <th>clean_text</th>\n",
              "    </tr>\n",
              "  </thead>\n",
              "  <tbody>\n",
              "    <tr>\n",
              "      <th>0</th>\n",
              "      <td>hasilnya sangat bagus dan memuaskan</td>\n",
              "      <td>1</td>\n",
              "      <td>[hasilnya, sangat, bagus, dan, memuaskan]</td>\n",
              "      <td>[hasilnya, sangat_bagus, dan, memuaskan]</td>\n",
              "      <td>[hasilnya, sangat_bagus, memuaskan]</td>\n",
              "      <td>hasilnya sangat_bagus memuaskan</td>\n",
              "    </tr>\n",
              "    <tr>\n",
              "      <th>1</th>\n",
              "      <td>hasil laundry bagus dan wangi</td>\n",
              "      <td>1</td>\n",
              "      <td>[hasil, laundry, bagus, dan, wangi]</td>\n",
              "      <td>[hasil, laundry, bagus, dan, wangi]</td>\n",
              "      <td>[hasil, laundry, bagus, wangi]</td>\n",
              "      <td>hasil laundry bagus wangi</td>\n",
              "    </tr>\n",
              "    <tr>\n",
              "      <th>2</th>\n",
              "      <td>kurang bersih kadang nyucinya</td>\n",
              "      <td>0</td>\n",
              "      <td>[kurang, bersih, kadang, nyucinya]</td>\n",
              "      <td>[kurang_bersih, kadang_nyucinya]</td>\n",
              "      <td>[kurang_bersih, kadang_nyucinya]</td>\n",
              "      <td>kurang_bersih kadang_nyucinya</td>\n",
              "    </tr>\n",
              "    <tr>\n",
              "      <th>3</th>\n",
              "      <td>pekerjaannya tidak tepat waktu</td>\n",
              "      <td>0</td>\n",
              "      <td>[pekerjaannya, tidak, tepat, waktu]</td>\n",
              "      <td>[pekerjaannya, tidak_tepat, waktu]</td>\n",
              "      <td>[pekerjaannya, tidak_tepat]</td>\n",
              "      <td>pekerjaannya tidak_tepat</td>\n",
              "    </tr>\n",
              "    <tr>\n",
              "      <th>4</th>\n",
              "      <td>beberapa baju kena pemutih spertinya jadi agak...</td>\n",
              "      <td>0</td>\n",
              "      <td>[beberapa, baju, kena, pemutih, spertinya, jad...</td>\n",
              "      <td>[beberapa, baju, kena, pemutih, spertinya, jad...</td>\n",
              "      <td>[baju, kena, pemutih, spertinya, luntur]</td>\n",
              "      <td>baju kena pemutih spertinya luntur</td>\n",
              "    </tr>\n",
              "  </tbody>\n",
              "</table>\n",
              "</div>\n",
              "      <button class=\"colab-df-convert\" onclick=\"convertToInteractive('df-ef660e33-18b9-4ba7-90f8-39b5357d82f4')\"\n",
              "              title=\"Convert this dataframe to an interactive table.\"\n",
              "              style=\"display:none;\">\n",
              "        \n",
              "  <svg xmlns=\"http://www.w3.org/2000/svg\" height=\"24px\"viewBox=\"0 0 24 24\"\n",
              "       width=\"24px\">\n",
              "    <path d=\"M0 0h24v24H0V0z\" fill=\"none\"/>\n",
              "    <path d=\"M18.56 5.44l.94 2.06.94-2.06 2.06-.94-2.06-.94-.94-2.06-.94 2.06-2.06.94zm-11 1L8.5 8.5l.94-2.06 2.06-.94-2.06-.94L8.5 2.5l-.94 2.06-2.06.94zm10 10l.94 2.06.94-2.06 2.06-.94-2.06-.94-.94-2.06-.94 2.06-2.06.94z\"/><path d=\"M17.41 7.96l-1.37-1.37c-.4-.4-.92-.59-1.43-.59-.52 0-1.04.2-1.43.59L10.3 9.45l-7.72 7.72c-.78.78-.78 2.05 0 2.83L4 21.41c.39.39.9.59 1.41.59.51 0 1.02-.2 1.41-.59l7.78-7.78 2.81-2.81c.8-.78.8-2.07 0-2.86zM5.41 20L4 18.59l7.72-7.72 1.47 1.35L5.41 20z\"/>\n",
              "  </svg>\n",
              "      </button>\n",
              "      \n",
              "  <style>\n",
              "    .colab-df-container {\n",
              "      display:flex;\n",
              "      flex-wrap:wrap;\n",
              "      gap: 12px;\n",
              "    }\n",
              "\n",
              "    .colab-df-convert {\n",
              "      background-color: #E8F0FE;\n",
              "      border: none;\n",
              "      border-radius: 50%;\n",
              "      cursor: pointer;\n",
              "      display: none;\n",
              "      fill: #1967D2;\n",
              "      height: 32px;\n",
              "      padding: 0 0 0 0;\n",
              "      width: 32px;\n",
              "    }\n",
              "\n",
              "    .colab-df-convert:hover {\n",
              "      background-color: #E2EBFA;\n",
              "      box-shadow: 0px 1px 2px rgba(60, 64, 67, 0.3), 0px 1px 3px 1px rgba(60, 64, 67, 0.15);\n",
              "      fill: #174EA6;\n",
              "    }\n",
              "\n",
              "    [theme=dark] .colab-df-convert {\n",
              "      background-color: #3B4455;\n",
              "      fill: #D2E3FC;\n",
              "    }\n",
              "\n",
              "    [theme=dark] .colab-df-convert:hover {\n",
              "      background-color: #434B5C;\n",
              "      box-shadow: 0px 1px 3px 1px rgba(0, 0, 0, 0.15);\n",
              "      filter: drop-shadow(0px 1px 2px rgba(0, 0, 0, 0.3));\n",
              "      fill: #FFFFFF;\n",
              "    }\n",
              "  </style>\n",
              "\n",
              "      <script>\n",
              "        const buttonEl =\n",
              "          document.querySelector('#df-ef660e33-18b9-4ba7-90f8-39b5357d82f4 button.colab-df-convert');\n",
              "        buttonEl.style.display =\n",
              "          google.colab.kernel.accessAllowed ? 'block' : 'none';\n",
              "\n",
              "        async function convertToInteractive(key) {\n",
              "          const element = document.querySelector('#df-ef660e33-18b9-4ba7-90f8-39b5357d82f4');\n",
              "          const dataTable =\n",
              "            await google.colab.kernel.invokeFunction('convertToInteractive',\n",
              "                                                     [key], {});\n",
              "          if (!dataTable) return;\n",
              "\n",
              "          const docLinkHtml = 'Like what you see? Visit the ' +\n",
              "            '<a target=\"_blank\" href=https://colab.research.google.com/notebooks/data_table.ipynb>data table notebook</a>'\n",
              "            + ' to learn more about interactive tables.';\n",
              "          element.innerHTML = '';\n",
              "          dataTable['output_type'] = 'display_data';\n",
              "          await google.colab.output.renderOutput(dataTable, element);\n",
              "          const docLink = document.createElement('div');\n",
              "          docLink.innerHTML = docLinkHtml;\n",
              "          element.appendChild(docLink);\n",
              "        }\n",
              "      </script>\n",
              "    </div>\n",
              "  </div>\n",
              "  "
            ]
          },
          "metadata": {},
          "execution_count": 20
        }
      ],
      "source": [
        "df.head()"
      ]
    },
    {
      "cell_type": "code",
      "execution_count": 21,
      "id": "2027bd4b",
      "metadata": {
        "colab": {
          "base_uri": "https://localhost:8080/",
          "height": 337
        },
        "id": "2027bd4b",
        "outputId": "5536cc58-9eca-445c-92bd-4a0614602a30"
      },
      "outputs": [
        {
          "output_type": "execute_result",
          "data": {
            "text/plain": [
              "                                                   text  target  \\\n",
              "2594  pakaian saya selalu dijaga agar tetap awet dan...       1   \n",
              "2595  laundry ini memiliki tim yang terampil dan ber...       1   \n",
              "2596  mereka memberikan layanan penanganan noda yang...       1   \n",
              "2597  layanan pengeringan mereka dilakukan dengan ha...       1   \n",
              "2598  saya merasa sangat nyaman menggunakan layanan ...       1   \n",
              "\n",
              "                                                 Tokens  \\\n",
              "2594  [pakaian, saya, selalu, dijaga, agar, tetap, a...   \n",
              "2595  [laundry, ini, memiliki, tim, yang, terampil, ...   \n",
              "2596  [mereka, memberikan, layanan, penanganan, noda...   \n",
              "2597  [layanan, pengeringan, mereka, dilakukan, deng...   \n",
              "2598  [saya, merasa, sangat, nyaman, menggunakan, la...   \n",
              "\n",
              "                                        Combined_Tokens  \\\n",
              "2594  [pakaian, saya, selalu, dijaga, agar, tetap, a...   \n",
              "2595  [laundry, ini, memiliki, tim, yang, terampil, ...   \n",
              "2596  [mereka, memberikan, layanan, penanganan, noda...   \n",
              "2597  [layanan, pengeringan, mereka, dilakukan, deng...   \n",
              "2598  [saya, merasa, sangat_nyaman, menggunakan, lay...   \n",
              "\n",
              "                                           Clean_Tokens  \\\n",
              "2594  [pakaian, dijaga, awet, tahan, perlindungan, t...   \n",
              "2595  [laundry, memiliki, tim, terampil, berpengalam...   \n",
              "2596  [layanan, penanganan, noda, efektif, menghilan...   \n",
              "2597  [layanan, pengeringan, hatihati, menjaga, kele...   \n",
              "2598  [sangat_nyaman, layanan, laundry, hasil, memua...   \n",
              "\n",
              "                                             clean_text  \n",
              "2594    pakaian dijaga awet tahan perlindungan tambahan  \n",
              "2595  laundry memiliki tim terampil berpengalaman me...  \n",
              "2596  layanan penanganan noda efektif menghilangkan ...  \n",
              "2597  layanan pengeringan hatihati menjaga kelembuta...  \n",
              "2598      sangat_nyaman layanan laundry hasil memuaskan  "
            ],
            "text/html": [
              "\n",
              "  <div id=\"df-5ec02642-02aa-4a81-b798-4dd27a089c9c\">\n",
              "    <div class=\"colab-df-container\">\n",
              "      <div>\n",
              "<style scoped>\n",
              "    .dataframe tbody tr th:only-of-type {\n",
              "        vertical-align: middle;\n",
              "    }\n",
              "\n",
              "    .dataframe tbody tr th {\n",
              "        vertical-align: top;\n",
              "    }\n",
              "\n",
              "    .dataframe thead th {\n",
              "        text-align: right;\n",
              "    }\n",
              "</style>\n",
              "<table border=\"1\" class=\"dataframe\">\n",
              "  <thead>\n",
              "    <tr style=\"text-align: right;\">\n",
              "      <th></th>\n",
              "      <th>text</th>\n",
              "      <th>target</th>\n",
              "      <th>Tokens</th>\n",
              "      <th>Combined_Tokens</th>\n",
              "      <th>Clean_Tokens</th>\n",
              "      <th>clean_text</th>\n",
              "    </tr>\n",
              "  </thead>\n",
              "  <tbody>\n",
              "    <tr>\n",
              "      <th>2594</th>\n",
              "      <td>pakaian saya selalu dijaga agar tetap awet dan...</td>\n",
              "      <td>1</td>\n",
              "      <td>[pakaian, saya, selalu, dijaga, agar, tetap, a...</td>\n",
              "      <td>[pakaian, saya, selalu, dijaga, agar, tetap, a...</td>\n",
              "      <td>[pakaian, dijaga, awet, tahan, perlindungan, t...</td>\n",
              "      <td>pakaian dijaga awet tahan perlindungan tambahan</td>\n",
              "    </tr>\n",
              "    <tr>\n",
              "      <th>2595</th>\n",
              "      <td>laundry ini memiliki tim yang terampil dan ber...</td>\n",
              "      <td>1</td>\n",
              "      <td>[laundry, ini, memiliki, tim, yang, terampil, ...</td>\n",
              "      <td>[laundry, ini, memiliki, tim, yang, terampil, ...</td>\n",
              "      <td>[laundry, memiliki, tim, terampil, berpengalam...</td>\n",
              "      <td>laundry memiliki tim terampil berpengalaman me...</td>\n",
              "    </tr>\n",
              "    <tr>\n",
              "      <th>2596</th>\n",
              "      <td>mereka memberikan layanan penanganan noda yang...</td>\n",
              "      <td>1</td>\n",
              "      <td>[mereka, memberikan, layanan, penanganan, noda...</td>\n",
              "      <td>[mereka, memberikan, layanan, penanganan, noda...</td>\n",
              "      <td>[layanan, penanganan, noda, efektif, menghilan...</td>\n",
              "      <td>layanan penanganan noda efektif menghilangkan ...</td>\n",
              "    </tr>\n",
              "    <tr>\n",
              "      <th>2597</th>\n",
              "      <td>layanan pengeringan mereka dilakukan dengan ha...</td>\n",
              "      <td>1</td>\n",
              "      <td>[layanan, pengeringan, mereka, dilakukan, deng...</td>\n",
              "      <td>[layanan, pengeringan, mereka, dilakukan, deng...</td>\n",
              "      <td>[layanan, pengeringan, hatihati, menjaga, kele...</td>\n",
              "      <td>layanan pengeringan hatihati menjaga kelembuta...</td>\n",
              "    </tr>\n",
              "    <tr>\n",
              "      <th>2598</th>\n",
              "      <td>saya merasa sangat nyaman menggunakan layanan ...</td>\n",
              "      <td>1</td>\n",
              "      <td>[saya, merasa, sangat, nyaman, menggunakan, la...</td>\n",
              "      <td>[saya, merasa, sangat_nyaman, menggunakan, lay...</td>\n",
              "      <td>[sangat_nyaman, layanan, laundry, hasil, memua...</td>\n",
              "      <td>sangat_nyaman layanan laundry hasil memuaskan</td>\n",
              "    </tr>\n",
              "  </tbody>\n",
              "</table>\n",
              "</div>\n",
              "      <button class=\"colab-df-convert\" onclick=\"convertToInteractive('df-5ec02642-02aa-4a81-b798-4dd27a089c9c')\"\n",
              "              title=\"Convert this dataframe to an interactive table.\"\n",
              "              style=\"display:none;\">\n",
              "        \n",
              "  <svg xmlns=\"http://www.w3.org/2000/svg\" height=\"24px\"viewBox=\"0 0 24 24\"\n",
              "       width=\"24px\">\n",
              "    <path d=\"M0 0h24v24H0V0z\" fill=\"none\"/>\n",
              "    <path d=\"M18.56 5.44l.94 2.06.94-2.06 2.06-.94-2.06-.94-.94-2.06-.94 2.06-2.06.94zm-11 1L8.5 8.5l.94-2.06 2.06-.94-2.06-.94L8.5 2.5l-.94 2.06-2.06.94zm10 10l.94 2.06.94-2.06 2.06-.94-2.06-.94-.94-2.06-.94 2.06-2.06.94z\"/><path d=\"M17.41 7.96l-1.37-1.37c-.4-.4-.92-.59-1.43-.59-.52 0-1.04.2-1.43.59L10.3 9.45l-7.72 7.72c-.78.78-.78 2.05 0 2.83L4 21.41c.39.39.9.59 1.41.59.51 0 1.02-.2 1.41-.59l7.78-7.78 2.81-2.81c.8-.78.8-2.07 0-2.86zM5.41 20L4 18.59l7.72-7.72 1.47 1.35L5.41 20z\"/>\n",
              "  </svg>\n",
              "      </button>\n",
              "      \n",
              "  <style>\n",
              "    .colab-df-container {\n",
              "      display:flex;\n",
              "      flex-wrap:wrap;\n",
              "      gap: 12px;\n",
              "    }\n",
              "\n",
              "    .colab-df-convert {\n",
              "      background-color: #E8F0FE;\n",
              "      border: none;\n",
              "      border-radius: 50%;\n",
              "      cursor: pointer;\n",
              "      display: none;\n",
              "      fill: #1967D2;\n",
              "      height: 32px;\n",
              "      padding: 0 0 0 0;\n",
              "      width: 32px;\n",
              "    }\n",
              "\n",
              "    .colab-df-convert:hover {\n",
              "      background-color: #E2EBFA;\n",
              "      box-shadow: 0px 1px 2px rgba(60, 64, 67, 0.3), 0px 1px 3px 1px rgba(60, 64, 67, 0.15);\n",
              "      fill: #174EA6;\n",
              "    }\n",
              "\n",
              "    [theme=dark] .colab-df-convert {\n",
              "      background-color: #3B4455;\n",
              "      fill: #D2E3FC;\n",
              "    }\n",
              "\n",
              "    [theme=dark] .colab-df-convert:hover {\n",
              "      background-color: #434B5C;\n",
              "      box-shadow: 0px 1px 3px 1px rgba(0, 0, 0, 0.15);\n",
              "      filter: drop-shadow(0px 1px 2px rgba(0, 0, 0, 0.3));\n",
              "      fill: #FFFFFF;\n",
              "    }\n",
              "  </style>\n",
              "\n",
              "      <script>\n",
              "        const buttonEl =\n",
              "          document.querySelector('#df-5ec02642-02aa-4a81-b798-4dd27a089c9c button.colab-df-convert');\n",
              "        buttonEl.style.display =\n",
              "          google.colab.kernel.accessAllowed ? 'block' : 'none';\n",
              "\n",
              "        async function convertToInteractive(key) {\n",
              "          const element = document.querySelector('#df-5ec02642-02aa-4a81-b798-4dd27a089c9c');\n",
              "          const dataTable =\n",
              "            await google.colab.kernel.invokeFunction('convertToInteractive',\n",
              "                                                     [key], {});\n",
              "          if (!dataTable) return;\n",
              "\n",
              "          const docLinkHtml = 'Like what you see? Visit the ' +\n",
              "            '<a target=\"_blank\" href=https://colab.research.google.com/notebooks/data_table.ipynb>data table notebook</a>'\n",
              "            + ' to learn more about interactive tables.';\n",
              "          element.innerHTML = '';\n",
              "          dataTable['output_type'] = 'display_data';\n",
              "          await google.colab.output.renderOutput(dataTable, element);\n",
              "          const docLink = document.createElement('div');\n",
              "          docLink.innerHTML = docLinkHtml;\n",
              "          element.appendChild(docLink);\n",
              "        }\n",
              "      </script>\n",
              "    </div>\n",
              "  </div>\n",
              "  "
            ]
          },
          "metadata": {},
          "execution_count": 21
        }
      ],
      "source": [
        "df.tail()"
      ]
    },
    {
      "cell_type": "markdown",
      "id": "40871062",
      "metadata": {
        "id": "40871062"
      },
      "source": [
        "### Splitting Dataset"
      ]
    },
    {
      "cell_type": "code",
      "execution_count": 22,
      "id": "ed4622b7",
      "metadata": {
        "id": "ed4622b7"
      },
      "outputs": [],
      "source": [
        "from sklearn.model_selection import train_test_split\n",
        "\n",
        "# Memisahkan fitur dan label target\n",
        "X = df['clean_text']\n",
        "y = df['target']\n",
        "\n",
        "# Memisahkan dataset menjadi training set dan test set\n",
        "X_train, X_test, y_train, y_test = train_test_split(X, y, test_size=0.2, random_state=42, stratify=y)"
      ]
    },
    {
      "cell_type": "markdown",
      "id": "822a419b",
      "metadata": {
        "id": "822a419b"
      },
      "source": [
        "#### Mengecek apakah balance"
      ]
    },
    {
      "cell_type": "code",
      "execution_count": 23,
      "id": "457aed01",
      "metadata": {
        "colab": {
          "base_uri": "https://localhost:8080/",
          "height": 443
        },
        "id": "457aed01",
        "outputId": "da19a05e-d679-44f1-f53b-1eb3a9d0c6d8"
      },
      "outputs": [
        {
          "output_type": "execute_result",
          "data": {
            "text/plain": [
              "<Axes: >"
            ]
          },
          "metadata": {},
          "execution_count": 23
        },
        {
          "output_type": "display_data",
          "data": {
            "text/plain": [
              "<Figure size 640x480 with 1 Axes>"
            ],
            "image/png": "[encoded data removed]"
          },
          "metadata": {}
        }
      ],
      "source": [
        "y_train.value_counts().plot(kind=\"bar\")"
      ]
    },
    {
      "cell_type": "code",
      "execution_count": 24,
      "id": "c027722b",
      "metadata": {
        "colab": {
          "base_uri": "https://localhost:8080/",
          "height": 443
        },
        "id": "c027722b",
        "outputId": "c26d71a3-70da-420f-fd14-ebe75c788e03"
      },
      "outputs": [
        {
          "output_type": "execute_result",
          "data": {
            "text/plain": [
              "<Axes: >"
            ]
          },
          "metadata": {},
          "execution_count": 24
        },
        {
          "output_type": "display_data",
          "data": {
            "text/plain": [
              "<Figure size 640x480 with 1 Axes>"
            ],
            "image/png": "[encoded data removed]"
          },
          "metadata": {}
        }
      ],
      "source": [
        "y_test.value_counts().plot(kind=\"bar\")"
      ]
    },
    {
      "cell_type": "markdown",
      "id": "5a8d5878",
      "metadata": {
        "id": "5a8d5878"
      },
      "source": [
        "### Analisis & Membangun Model"
      ]
    },
    {
      "cell_type": "code",
      "source": [
        "aug = naw.SynonymAug(aug_src='wordnet')\n",
        "augmented_X_train = []\n",
        "for text in X_train:\n",
        "    augmented_text = aug.augment(text)\n",
        "    augmented_X_train.append(augmented_text)\n",
        "X_train = np.concatenate((X_train, np.array(augmented_X_train)), axis=0)\n",
        "y_train = np.concatenate((y_train, y_train), axis=0)\n",
        "\n",
        "\n",
        "# Vektorisasi teks\n",
        "tokenizer = Tokenizer(num_words=10000,oov_token = \"<OOV>\")  # Jumlah kata unik yang akan digunakan\n",
        "tokenizer.fit_on_texts(X_train)  # X_train adalah data teks review pada training set\n",
        "\n",
        "\n",
        "X_train = tokenizer.texts_to_sequences(X_train)\n",
        "X_test = tokenizer.texts_to_sequences(X_test)\n",
        "\n",
        "vocab_size = len(tokenizer.word_index) + 1\n",
        "\n",
        "max_length = 100  # Panjang maksimum teks review yang akan diproses\n",
        "X_train = pad_sequences(X_train, maxlen=max_length, padding='post')\n",
        "X_test = pad_sequences(X_test, maxlen=max_length, padding='post')\n",
        "\n"
      ],
      "metadata": {
        "colab": {
          "base_uri": "https://localhost:8080/"
        },
        "id": "ylucfBDw5_vp",
        "outputId": "b9cb8684-63d2-4861-e377-a0780a6d930a"
      },
      "id": "ylucfBDw5_vp",
      "execution_count": 25,
      "outputs": [
        {
          "output_type": "stream",
          "name": "stderr",
          "text": [
            "[nltk_data] Downloading package wordnet to /root/nltk_data...\n",
            "[nltk_data] Downloading package omw-1.4 to /root/nltk_data...\n",
            "[nltk_data] Downloading package averaged_perceptron_tagger to\n",
            "[nltk_data]     /root/nltk_data...\n",
            "[nltk_data]   Unzipping taggers/averaged_perceptron_tagger.zip.\n",
            "<ipython-input-25-0366cf5731da>:6: VisibleDeprecationWarning: Creating an ndarray from ragged nested sequences (which is a list-or-tuple of lists-or-tuples-or ndarrays with different lengths or shapes) is deprecated. If you meant to do this, you must specify 'dtype=object' when creating the ndarray.\n",
            "  X_train = np.concatenate((X_train, np.array(augmented_X_train)), axis=0)\n"
          ]
        }
      ]
    },
    {
      "cell_type": "code",
      "source": [
        "# Menyimpan tokenizer\n",
        "with open('tokenlast.pkl', 'wb') as f:\n",
        "    pickle.dump(tokenizer, f)"
      ],
      "metadata": {
        "id": "-RjfZ3Tm7wbM"
      },
      "id": "-RjfZ3Tm7wbM",
      "execution_count": 26,
      "outputs": []
    },
    {
      "cell_type": "code",
      "execution_count": 27,
      "id": "b69369e8",
      "metadata": {
        "id": "b69369e8"
      },
      "outputs": [],
      "source": [
        "# Pembangunan model\n",
        "model = tf.keras.Sequential([\n",
        "    tf.keras.layers.Embedding(vocab_size, 16, input_length=max_length),\n",
        "    tf.keras.layers.GlobalAveragePooling1D(),\n",
        "    tf.keras.layers.Flatten(),\n",
        "    # tf.keras.layers.Dense(128, activation='relu'),\n",
        "    tf.keras.layers.Dense(64, activation='relu'),\n",
        "    tf.keras.layers.Dense(32, activation='relu'),\n",
        "    tf.keras.layers.Dropout(0.4),\n",
        "    tf.keras.layers.Dense(1, activation='sigmoid')\n",
        "])\n",
        "\n",
        "model.compile(loss='binary_crossentropy', optimizer=tf.keras.optimizers.Adam(learning_rate=0.001), metrics=['accuracy'])\n",
        "\n",
        "\n",
        "\n"
      ]
    },
    {
      "cell_type": "code",
      "source": [
        "kfold = KFold(n_splits=2)\n",
        "for train_idx, val_idx in kfold.split(X_train):\n",
        "    X_train_fold, X_val = X_train[train_idx], X_train[val_idx]\n",
        "    y_train_fold, y_val = y_train[train_idx], y_train[val_idx]\n",
        "\n",
        "    # Pelatihan model\n",
        "    epochs = 50  # Jumlah epoch (iterasi) yang akan dilakukan\n",
        "    batch_size = 32  # Ukuran batch yang digunakan saat pelatihan\n",
        "\n",
        "    history = model.fit(X_train_fold, y_train_fold, epochs=epochs, batch_size=batch_size, validation_data=(X_val, y_val))\n",
        "\n",
        "# Evaluasi model\n",
        "loss, accuracy = model.evaluate(X_val, y_val)\n",
        "print(\"Loss:\", loss)\n",
        "print(\"Accuracy:\", accuracy)"
      ],
      "metadata": {
        "colab": {
          "base_uri": "https://localhost:8080/"
        },
        "id": "lccVDN7q49sE",
        "outputId": "55016584-3924-46b8-806f-bf0f20f16050"
      },
      "id": "lccVDN7q49sE",
      "execution_count": 28,
      "outputs": [
        {
          "output_type": "stream",
          "name": "stdout",
          "text": [
            "Epoch 1/50\n",
            "65/65 [==============================] - 11s 36ms/step - loss: 0.6935 - accuracy: 0.4829 - val_loss: 0.6931 - val_accuracy: 0.5002\n",
            "Epoch 2/50\n",
            "65/65 [==============================] - 1s 17ms/step - loss: 0.6931 - accuracy: 0.5166 - val_loss: 0.6930 - val_accuracy: 0.5002\n",
            "Epoch 3/50\n",
            "65/65 [==============================] - 1s 13ms/step - loss: 0.6932 - accuracy: 0.5041 - val_loss: 0.6930 - val_accuracy: 0.5012\n",
            "Epoch 4/50\n",
            "65/65 [==============================] - 1s 14ms/step - loss: 0.6932 - accuracy: 0.4954 - val_loss: 0.6931 - val_accuracy: 0.5002\n",
            "Epoch 5/50\n",
            "65/65 [==============================] - 1s 13ms/step - loss: 0.6935 - accuracy: 0.4820 - val_loss: 0.6931 - val_accuracy: 0.5017\n",
            "Epoch 6/50\n",
            "65/65 [==============================] - 1s 14ms/step - loss: 0.6935 - accuracy: 0.4656 - val_loss: 0.6931 - val_accuracy: 0.5002\n",
            "Epoch 7/50\n",
            "65/65 [==============================] - 1s 15ms/step - loss: 0.6934 - accuracy: 0.4959 - val_loss: 0.6932 - val_accuracy: 0.5002\n",
            "Epoch 8/50\n",
            "65/65 [==============================] - 1s 14ms/step - loss: 0.6932 - accuracy: 0.4906 - val_loss: 0.6931 - val_accuracy: 0.4998\n",
            "Epoch 9/50\n",
            "65/65 [==============================] - 1s 13ms/step - loss: 0.6932 - accuracy: 0.4892 - val_loss: 0.6931 - val_accuracy: 0.4998\n",
            "Epoch 10/50\n",
            "65/65 [==============================] - 1s 19ms/step - loss: 0.6932 - accuracy: 0.4959 - val_loss: 0.6931 - val_accuracy: 0.4998\n",
            "Epoch 11/50\n",
            "65/65 [==============================] - 1s 18ms/step - loss: 0.6932 - accuracy: 0.4935 - val_loss: 0.6931 - val_accuracy: 0.5002\n",
            "Epoch 12/50\n",
            "65/65 [==============================] - 2s 25ms/step - loss: 0.6932 - accuracy: 0.4911 - val_loss: 0.6931 - val_accuracy: 0.5002\n",
            "Epoch 13/50\n",
            "65/65 [==============================] - 1s 12ms/step - loss: 0.6932 - accuracy: 0.4887 - val_loss: 0.6931 - val_accuracy: 0.6681\n",
            "Epoch 14/50\n",
            "65/65 [==============================] - 1s 13ms/step - loss: 0.6931 - accuracy: 0.5152 - val_loss: 0.6931 - val_accuracy: 0.5002\n",
            "Epoch 15/50\n",
            "65/65 [==============================] - 1s 12ms/step - loss: 0.6932 - accuracy: 0.5017 - val_loss: 0.6930 - val_accuracy: 0.5002\n",
            "Epoch 16/50\n",
            "65/65 [==============================] - 1s 12ms/step - loss: 0.6932 - accuracy: 0.4930 - val_loss: 0.6930 - val_accuracy: 0.6999\n",
            "Epoch 17/50\n",
            "65/65 [==============================] - 1s 12ms/step - loss: 0.6929 - accuracy: 0.5065 - val_loss: 0.6928 - val_accuracy: 0.4998\n",
            "Epoch 18/50\n",
            "65/65 [==============================] - 1s 17ms/step - loss: 0.6931 - accuracy: 0.4978 - val_loss: 0.6926 - val_accuracy: 0.5022\n",
            "Epoch 19/50\n",
            "65/65 [==============================] - 1s 13ms/step - loss: 0.6926 - accuracy: 0.5286 - val_loss: 0.6925 - val_accuracy: 0.5017\n",
            "Epoch 20/50\n",
            "65/65 [==============================] - 1s 21ms/step - loss: 0.6927 - accuracy: 0.5099 - val_loss: 0.6918 - val_accuracy: 0.5195\n",
            "Epoch 21/50\n",
            "65/65 [==============================] - 1s 15ms/step - loss: 0.6919 - accuracy: 0.5224 - val_loss: 0.6904 - val_accuracy: 0.5041\n",
            "Epoch 22/50\n",
            "65/65 [==============================] - 1s 13ms/step - loss: 0.6899 - accuracy: 0.5642 - val_loss: 0.6878 - val_accuracy: 0.5099\n",
            "Epoch 23/50\n",
            "65/65 [==============================] - 1s 13ms/step - loss: 0.6848 - accuracy: 0.5854 - val_loss: 0.6801 - val_accuracy: 0.7018\n",
            "Epoch 24/50\n",
            "65/65 [==============================] - 1s 16ms/step - loss: 0.6688 - accuracy: 0.7446 - val_loss: 0.6723 - val_accuracy: 0.5171\n",
            "Epoch 25/50\n",
            "65/65 [==============================] - 1s 11ms/step - loss: 0.6390 - accuracy: 0.7172 - val_loss: 0.6393 - val_accuracy: 0.5830\n",
            "Epoch 26/50\n",
            "65/65 [==============================] - 1s 13ms/step - loss: 0.5623 - accuracy: 0.8672 - val_loss: 0.6223 - val_accuracy: 0.5950\n",
            "Epoch 27/50\n",
            "65/65 [==============================] - 1s 11ms/step - loss: 0.4349 - accuracy: 0.9240 - val_loss: 0.6098 - val_accuracy: 0.7056\n",
            "Epoch 28/50\n",
            "65/65 [==============================] - 0s 7ms/step - loss: 0.3012 - accuracy: 0.9808 - val_loss: 0.7483 - val_accuracy: 0.6157\n",
            "Epoch 29/50\n",
            "65/65 [==============================] - 0s 7ms/step - loss: 0.1918 - accuracy: 0.9913 - val_loss: 0.8015 - val_accuracy: 0.6975\n",
            "Epoch 30/50\n",
            "65/65 [==============================] - 0s 7ms/step - loss: 0.1260 - accuracy: 0.9957 - val_loss: 0.8993 - val_accuracy: 0.6975\n",
            "Epoch 31/50\n",
            "65/65 [==============================] - 0s 7ms/step - loss: 0.0933 - accuracy: 0.9947 - val_loss: 1.1079 - val_accuracy: 0.6008\n",
            "Epoch 32/50\n",
            "65/65 [==============================] - 0s 7ms/step - loss: 0.0695 - accuracy: 0.9957 - val_loss: 1.1288 - val_accuracy: 0.6638\n",
            "Epoch 33/50\n",
            "65/65 [==============================] - 1s 9ms/step - loss: 0.0517 - accuracy: 0.9952 - val_loss: 1.1958 - val_accuracy: 0.6724\n",
            "Epoch 34/50\n",
            "65/65 [==============================] - 0s 7ms/step - loss: 0.0420 - accuracy: 0.9957 - val_loss: 1.2054 - val_accuracy: 0.7003\n",
            "Epoch 35/50\n",
            "65/65 [==============================] - 0s 7ms/step - loss: 0.0327 - accuracy: 0.9976 - val_loss: 1.3156 - val_accuracy: 0.6883\n",
            "Epoch 36/50\n",
            "65/65 [==============================] - 0s 7ms/step - loss: 0.0298 - accuracy: 0.9966 - val_loss: 1.3669 - val_accuracy: 0.6893\n",
            "Epoch 37/50\n",
            "65/65 [==============================] - 0s 7ms/step - loss: 0.0279 - accuracy: 0.9962 - val_loss: 1.6840 - val_accuracy: 0.5878\n",
            "Epoch 38/50\n",
            "65/65 [==============================] - 0s 7ms/step - loss: 0.0224 - accuracy: 0.9971 - val_loss: 1.4436 - val_accuracy: 0.6989\n",
            "Epoch 39/50\n",
            "65/65 [==============================] - 0s 7ms/step - loss: 0.0243 - accuracy: 0.9957 - val_loss: 1.4754 - val_accuracy: 0.6970\n",
            "Epoch 40/50\n",
            "65/65 [==============================] - 0s 7ms/step - loss: 0.0203 - accuracy: 0.9952 - val_loss: 1.5131 - val_accuracy: 0.7023\n",
            "Epoch 41/50\n",
            "65/65 [==============================] - 0s 6ms/step - loss: 0.0200 - accuracy: 0.9962 - val_loss: 1.5823 - val_accuracy: 0.6989\n",
            "Epoch 42/50\n",
            "65/65 [==============================] - 0s 7ms/step - loss: 0.0165 - accuracy: 0.9966 - val_loss: 1.6347 - val_accuracy: 0.6873\n",
            "Epoch 43/50\n",
            "65/65 [==============================] - 0s 7ms/step - loss: 0.0221 - accuracy: 0.9966 - val_loss: 1.6131 - val_accuracy: 0.6950\n",
            "Epoch 44/50\n",
            "65/65 [==============================] - 0s 7ms/step - loss: 0.0150 - accuracy: 0.9981 - val_loss: 1.8957 - val_accuracy: 0.5998\n",
            "Epoch 45/50\n",
            "65/65 [==============================] - 0s 7ms/step - loss: 0.0137 - accuracy: 0.9976 - val_loss: 1.7238 - val_accuracy: 0.6965\n",
            "Epoch 46/50\n",
            "65/65 [==============================] - 0s 7ms/step - loss: 0.0144 - accuracy: 0.9966 - val_loss: 1.7364 - val_accuracy: 0.7080\n",
            "Epoch 47/50\n",
            "65/65 [==============================] - 0s 7ms/step - loss: 0.0143 - accuracy: 0.9976 - val_loss: 1.7677 - val_accuracy: 0.7090\n",
            "Epoch 48/50\n",
            "65/65 [==============================] - 1s 8ms/step - loss: 0.0116 - accuracy: 0.9976 - val_loss: 2.1928 - val_accuracy: 0.5921\n",
            "Epoch 49/50\n",
            "65/65 [==============================] - 1s 8ms/step - loss: 0.0143 - accuracy: 0.9976 - val_loss: 2.0837 - val_accuracy: 0.6008\n",
            "Epoch 50/50\n",
            "65/65 [==============================] - 1s 13ms/step - loss: 0.0103 - accuracy: 0.9976 - val_loss: 2.0061 - val_accuracy: 0.6301\n",
            "Epoch 1/50\n",
            "65/65 [==============================] - 11s 167ms/step - loss: 0.9103 - accuracy: 0.7932 - val_loss: 0.1903 - val_accuracy: 1.0000\n",
            "Epoch 2/50\n",
            "65/65 [==============================] - 8s 118ms/step - loss: 0.2866 - accuracy: 0.8899 - val_loss: 0.1116 - val_accuracy: 0.9976\n",
            "Epoch 3/50\n",
            "65/65 [==============================] - 4s 59ms/step - loss: 0.2247 - accuracy: 0.9216 - val_loss: 0.0748 - val_accuracy: 0.9976\n",
            "Epoch 4/50\n",
            "65/65 [==============================] - 2s 31ms/step - loss: 0.1910 - accuracy: 0.9389 - val_loss: 0.0700 - val_accuracy: 0.9976\n",
            "Epoch 5/50\n",
            "65/65 [==============================] - 2s 26ms/step - loss: 0.1573 - accuracy: 0.9490 - val_loss: 0.0961 - val_accuracy: 0.9976\n",
            "Epoch 6/50\n",
            "65/65 [==============================] - 1s 19ms/step - loss: 0.1299 - accuracy: 0.9625 - val_loss: 0.0407 - val_accuracy: 0.9976\n",
            "Epoch 7/50\n",
            "65/65 [==============================] - 1s 16ms/step - loss: 0.1094 - accuracy: 0.9658 - val_loss: 0.0279 - val_accuracy: 0.9976\n",
            "Epoch 8/50\n",
            "65/65 [==============================] - 2s 28ms/step - loss: 0.0907 - accuracy: 0.9711 - val_loss: 0.0257 - val_accuracy: 0.9976\n",
            "Epoch 9/50\n",
            "65/65 [==============================] - 1s 23ms/step - loss: 0.0946 - accuracy: 0.9721 - val_loss: 0.0545 - val_accuracy: 0.9962\n",
            "Epoch 10/50\n",
            "65/65 [==============================] - 1s 10ms/step - loss: 0.0765 - accuracy: 0.9803 - val_loss: 0.0171 - val_accuracy: 0.9976\n",
            "Epoch 11/50\n",
            "65/65 [==============================] - 1s 16ms/step - loss: 0.0638 - accuracy: 0.9812 - val_loss: 0.0129 - val_accuracy: 0.9976\n",
            "Epoch 12/50\n",
            "65/65 [==============================] - 1s 13ms/step - loss: 0.0593 - accuracy: 0.9851 - val_loss: 0.0154 - val_accuracy: 0.9976\n",
            "Epoch 13/50\n",
            "65/65 [==============================] - 1s 13ms/step - loss: 0.0509 - accuracy: 0.9880 - val_loss: 0.0147 - val_accuracy: 0.9976\n",
            "Epoch 14/50\n",
            "65/65 [==============================] - 1s 16ms/step - loss: 0.0462 - accuracy: 0.9894 - val_loss: 0.0084 - val_accuracy: 1.0000\n",
            "Epoch 15/50\n",
            "65/65 [==============================] - 0s 7ms/step - loss: 0.0443 - accuracy: 0.9899 - val_loss: 0.0093 - val_accuracy: 0.9976\n",
            "Epoch 16/50\n",
            "65/65 [==============================] - 1s 13ms/step - loss: 0.0380 - accuracy: 0.9904 - val_loss: 0.0072 - val_accuracy: 0.9976\n",
            "Epoch 17/50\n",
            "65/65 [==============================] - 0s 7ms/step - loss: 0.0406 - accuracy: 0.9918 - val_loss: 0.0075 - val_accuracy: 0.9976\n",
            "Epoch 18/50\n",
            "65/65 [==============================] - 1s 10ms/step - loss: 0.0424 - accuracy: 0.9856 - val_loss: 0.0064 - val_accuracy: 1.0000\n",
            "Epoch 19/50\n",
            "65/65 [==============================] - 1s 17ms/step - loss: 0.0327 - accuracy: 0.9913 - val_loss: 0.0057 - val_accuracy: 1.0000\n",
            "Epoch 20/50\n",
            "65/65 [==============================] - 1s 20ms/step - loss: 0.0286 - accuracy: 0.9933 - val_loss: 0.0067 - val_accuracy: 0.9976\n",
            "Epoch 21/50\n",
            "65/65 [==============================] - 1s 18ms/step - loss: 0.0292 - accuracy: 0.9952 - val_loss: 0.0052 - val_accuracy: 1.0000\n",
            "Epoch 22/50\n",
            "65/65 [==============================] - 3s 43ms/step - loss: 0.0323 - accuracy: 0.9913 - val_loss: 0.0067 - val_accuracy: 0.9990\n",
            "Epoch 23/50\n",
            "65/65 [==============================] - 1s 18ms/step - loss: 0.0261 - accuracy: 0.9947 - val_loss: 0.0083 - val_accuracy: 0.9976\n",
            "Epoch 24/50\n",
            "65/65 [==============================] - 1s 10ms/step - loss: 0.0267 - accuracy: 0.9937 - val_loss: 0.0096 - val_accuracy: 0.9976\n",
            "Epoch 25/50\n",
            "65/65 [==============================] - 1s 10ms/step - loss: 0.0265 - accuracy: 0.9952 - val_loss: 0.0042 - val_accuracy: 1.0000\n",
            "Epoch 26/50\n",
            "65/65 [==============================] - 0s 7ms/step - loss: 0.0278 - accuracy: 0.9928 - val_loss: 0.0067 - val_accuracy: 0.9976\n",
            "Epoch 27/50\n",
            "65/65 [==============================] - 1s 13ms/step - loss: 0.0255 - accuracy: 0.9962 - val_loss: 0.0041 - val_accuracy: 1.0000\n",
            "Epoch 28/50\n",
            "65/65 [==============================] - 0s 7ms/step - loss: 0.0229 - accuracy: 0.9947 - val_loss: 0.0038 - val_accuracy: 1.0000\n",
            "Epoch 29/50\n",
            "65/65 [==============================] - 1s 10ms/step - loss: 0.0214 - accuracy: 0.9942 - val_loss: 0.0044 - val_accuracy: 0.9976\n",
            "Epoch 30/50\n",
            "65/65 [==============================] - 1s 10ms/step - loss: 0.0211 - accuracy: 0.9971 - val_loss: 0.0039 - val_accuracy: 0.9976\n",
            "Epoch 31/50\n",
            "65/65 [==============================] - 0s 7ms/step - loss: 0.0203 - accuracy: 0.9942 - val_loss: 0.0037 - val_accuracy: 0.9976\n",
            "Epoch 32/50\n",
            "65/65 [==============================] - 0s 6ms/step - loss: 0.0189 - accuracy: 0.9962 - val_loss: 0.0052 - val_accuracy: 0.9986\n",
            "Epoch 33/50\n",
            "65/65 [==============================] - 1s 10ms/step - loss: 0.0201 - accuracy: 0.9947 - val_loss: 0.0054 - val_accuracy: 0.9986\n",
            "Epoch 34/50\n",
            "65/65 [==============================] - 0s 7ms/step - loss: 0.0172 - accuracy: 0.9976 - val_loss: 0.0109 - val_accuracy: 0.9976\n",
            "Epoch 35/50\n",
            "65/65 [==============================] - 0s 7ms/step - loss: 0.0212 - accuracy: 0.9966 - val_loss: 0.0027 - val_accuracy: 1.0000\n",
            "Epoch 36/50\n",
            "65/65 [==============================] - 0s 6ms/step - loss: 0.0182 - accuracy: 0.9962 - val_loss: 0.0033 - val_accuracy: 0.9976\n",
            "Epoch 37/50\n",
            "65/65 [==============================] - 1s 10ms/step - loss: 0.0217 - accuracy: 0.9952 - val_loss: 0.0059 - val_accuracy: 0.9976\n",
            "Epoch 38/50\n",
            "65/65 [==============================] - 1s 10ms/step - loss: 0.0184 - accuracy: 0.9966 - val_loss: 0.0025 - val_accuracy: 1.0000\n",
            "Epoch 39/50\n",
            "65/65 [==============================] - 0s 7ms/step - loss: 0.0247 - accuracy: 0.9942 - val_loss: 0.0102 - val_accuracy: 0.9976\n",
            "Epoch 40/50\n",
            "65/65 [==============================] - 0s 7ms/step - loss: 0.0188 - accuracy: 0.9966 - val_loss: 0.0023 - val_accuracy: 1.0000\n",
            "Epoch 41/50\n",
            "65/65 [==============================] - 0s 7ms/step - loss: 0.0164 - accuracy: 0.9976 - val_loss: 0.0026 - val_accuracy: 1.0000\n",
            "Epoch 42/50\n",
            "65/65 [==============================] - 1s 11ms/step - loss: 0.0152 - accuracy: 0.9981 - val_loss: 0.0027 - val_accuracy: 1.0000\n",
            "Epoch 43/50\n",
            "65/65 [==============================] - 1s 13ms/step - loss: 0.0276 - accuracy: 0.9942 - val_loss: 0.0021 - val_accuracy: 1.0000\n",
            "Epoch 44/50\n",
            "65/65 [==============================] - 1s 13ms/step - loss: 0.0185 - accuracy: 0.9957 - val_loss: 0.0036 - val_accuracy: 1.0000\n",
            "Epoch 45/50\n",
            "65/65 [==============================] - 1s 15ms/step - loss: 0.0231 - accuracy: 0.9952 - val_loss: 0.0043 - val_accuracy: 0.9976\n",
            "Epoch 46/50\n",
            "65/65 [==============================] - 1s 8ms/step - loss: 0.0185 - accuracy: 0.9971 - val_loss: 0.0066 - val_accuracy: 0.9990\n",
            "Epoch 47/50\n",
            "65/65 [==============================] - 0s 7ms/step - loss: 0.0176 - accuracy: 0.9962 - val_loss: 0.0029 - val_accuracy: 1.0000\n",
            "Epoch 48/50\n",
            "65/65 [==============================] - 1s 10ms/step - loss: 0.0155 - accuracy: 0.9976 - val_loss: 0.0224 - val_accuracy: 0.9986\n",
            "Epoch 49/50\n",
            "65/65 [==============================] - 0s 7ms/step - loss: 0.0338 - accuracy: 0.9913 - val_loss: 0.0099 - val_accuracy: 0.9986\n",
            "Epoch 50/50\n",
            "65/65 [==============================] - 0s 7ms/step - loss: 0.0189 - accuracy: 0.9962 - val_loss: 0.0040 - val_accuracy: 1.0000\n",
            "65/65 [==============================] - 0s 3ms/step - loss: 0.0040 - accuracy: 1.0000\n",
            "Loss: 0.00398666225373745\n",
            "Accuracy: 1.0\n"
          ]
        }
      ]
    },
    {
      "cell_type": "code",
      "execution_count": 29,
      "id": "86b9ebbf",
      "metadata": {
        "colab": {
          "base_uri": "https://localhost:8080/",
          "height": 927
        },
        "id": "86b9ebbf",
        "outputId": "56ab90e4-abf1-44b6-8713-57bd98d9303c"
      },
      "outputs": [
        {
          "output_type": "display_data",
          "data": {
            "text/plain": [
              "<Figure size 640x480 with 1 Axes>"
            ],
            "image/png": "[encoded data removed]"
          },
          "metadata": {}
        },
        {
          "output_type": "display_data",
          "data": {
            "text/plain": [
              "<Figure size 640x480 with 1 Axes>"
            ],
            "image/png": "[encoded data removed]"
          },
          "metadata": {}
        }
      ],
      "source": [
        "# Memplot akurasi dan loss pada setiap epoch\n",
        "train_accuracy = history.history['accuracy']\n",
        "val_accuracy = history.history['val_accuracy']\n",
        "train_loss = history.history['loss']\n",
        "val_loss = history.history['val_loss']\n",
        "\n",
        "epochs = range(1, len(train_accuracy) + 1)\n",
        "\n",
        "# Plot akurasi\n",
        "plt.plot(epochs, train_accuracy, 'g', label='Training Accuracy')\n",
        "plt.plot(epochs, val_accuracy, 'b', label='Testing Accuracy')\n",
        "plt.title('Training and Testing Accuracy')\n",
        "plt.xlabel('Epochs')\n",
        "plt.ylabel('Accuracy')\n",
        "plt.legend()\n",
        "plt.show()\n",
        "\n",
        "# Plot loss\n",
        "plt.plot(epochs, train_loss, 'g', label='Training Loss')\n",
        "plt.plot(epochs, val_loss, 'b', label='Testing Loss')\n",
        "plt.title('Training and Testing Loss')\n",
        "plt.xlabel('Epochs')\n",
        "plt.ylabel('Loss')\n",
        "plt.legend()\n",
        "plt.show()"
      ]
    },
    {
      "cell_type": "markdown",
      "source": [
        "### Model Testing"
      ],
      "metadata": {
        "id": "ltGLtgcCQ7D0"
      },
      "id": "ltGLtgcCQ7D0"
    },
    {
      "cell_type": "code",
      "source": [
        "sequence = tokenizer.texts_to_sequences(['Laundry sangat bagus kerja bersih'])\n",
        "print(sequence)\n",
        "sequence = pad_sequences(sequence, maxlen=100)\n",
        "prediction = model.predict(sequence)\n",
        "print(prediction)"
      ],
      "metadata": {
        "colab": {
          "base_uri": "https://localhost:8080/"
        },
        "id": "0FdRnp6Y4zZ4",
        "outputId": "e4c665e4-a562-4979-d4ee-1ef2921eae6c"
      },
      "id": "0FdRnp6Y4zZ4",
      "execution_count": 30,
      "outputs": [
        {
          "output_type": "stream",
          "name": "stdout",
          "text": [
            "[[5, 6, 11, 71, 7]]\n",
            "1/1 [==============================] - 0s 134ms/step\n",
            "[[0.99999785]]\n"
          ]
        }
      ]
    },
    {
      "cell_type": "code",
      "source": [
        "model.save('finalmodel.h5')"
      ],
      "metadata": {
        "id": "DLpg6Jlz-f1-"
      },
      "id": "DLpg6Jlz-f1-",
      "execution_count": 31,
      "outputs": []
    },
    {
      "cell_type": "code",
      "execution_count": 35,
      "id": "640d7f05",
      "metadata": {
        "id": "640d7f05",
        "colab": {
          "base_uri": "https://localhost:8080/"
        },
        "outputId": "478be3d3-9525-48a6-e036-ccb49f051abc"
      },
      "outputs": [
        {
          "output_type": "stream",
          "name": "stdout",
          "text": [
            "[[5, 2, 11, 4, 1, 44]]\n",
            "1/1 [==============================] - 0s 34ms/step\n",
            "0.12318197637796402\n",
            "[[0.12318198]]\n",
            "sangat buruk\n"
          ]
        }
      ],
      "source": [
        "sequence = tokenizer.texts_to_sequences(['Laundry tidak bagus pakaian masih kotor'])\n",
        "print(sequence)\n",
        "sequence = pad_sequences(sequence, maxlen=100)\n",
        "prediction = model.predict(sequence)\n",
        "\n",
        "sentiment = int(np.argmax(prediction))\n",
        "probability = max(prediction.tolist()[0])\n",
        "print(probability)\n",
        "print(prediction)\n",
        "if prediction > 0.5:\n",
        "  print(\"sangat bagus\")\n",
        "else :\n",
        "  print(\"sangat buruk\")"
      ]
    }
  ],
  "metadata": {
    "kernelspec": {
      "display_name": "Python 3",
      "name": "python3"
    },
    "language_info": {
      "codemirror_mode": {
        "name": "ipython",
        "version": 3
      },
      "file_extension": ".py",
      "mimetype": "text/x-python",
      "name": "python",
      "nbconvert_exporter": "python",
      "pygments_lexer": "ipython3",
      "version": "3.8.8"
    },
    "colab": {
      "provenance": [],
      "gpuType": "T4"
    },
    "accelerator": "GPU"
  },
  "nbformat": 4,
  "nbformat_minor": 5
}