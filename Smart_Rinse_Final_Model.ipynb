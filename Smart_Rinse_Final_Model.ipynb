{
  "cells": [
    {
      "cell_type": "markdown",
      "id": "b88b9a18",
      "metadata": {
        "id": "b88b9a18"
      },
      "source": [
        "## Import Library & Cek Data"
      ]
    },
    {
      "cell_type": "code",
      "execution_count": null,
      "id": "bb2d5ebf",
      "metadata": {
        "colab": {
          "base_uri": "https://localhost:8080/"
        },
        "id": "bb2d5ebf",
        "outputId": "880d4996-2794-430a-a75d-cac81d404ccc"
      },
      "outputs": [
        {
          "output_type": "stream",
          "name": "stdout",
          "text": [
            "Mounted at /content/drive\n"
          ]
        }
      ],
      "source": [
        "import numpy as np\n",
        "import pandas as pd\n",
        "import matplotlib.pyplot as plt\n",
        "import tensorflow as tf\n",
        "from google.colab import drive\n",
        "drive.mount('/content/drive')\n",
        "!pip install nlpaug\n",
        "!pip install --upgrade gensim\n",
        "!pip install pickle-mixin\n",
        "import tensorflow as tf\n",
        "import nlpaug.augmenter.word as naw\n",
        "from tensorflow.keras.preprocessing.text import Tokenizer\n",
        "from tensorflow.keras.preprocessing.sequence import pad_sequences\n",
        "from sklearn.model_selection import KFold\n",
        "import numpy as np\n",
        "from gensim.models import Word2Vec\n",
        "import pickle"
      ]
    },
    {
      "cell_type": "code",
      "execution_count": null,
      "id": "6f8eb0db",
      "metadata": {
        "colab": {
          "base_uri": "https://localhost:8080/",
          "height": 268
        },
        "id": "6f8eb0db",
        "outputId": "fded88bc-cfb5-4fc1-a8b9-cdec028839e1"
      },
      "outputs": [
        {
          "output_type": "execute_result",
          "data": {
            "text/plain": [
              "  Tempat laundry dengan teknologi tinggi dan ditangani oleh tenaga profesional memberi jaminan kepuasan kepada para customer  \\\n",
              "0                Hasilnya sangat bagus dan memuaskan                                                                           \n",
              "1                      Hasil laundry bagus dan wangi                                                                           \n",
              "2                      Kurang bersih kadang nyucinya                                                                           \n",
              "3                     Pekerjaannya tidak tepat waktu                                                                           \n",
              "4  Beberapa baju kena pemutih spertinya jadi agak...                                                                           \n",
              "\n",
              "   1  \n",
              "0  1  \n",
              "1  1  \n",
              "2  0  \n",
              "3  0  \n",
              "4  0  "
            ],
            "text/html": [
              "\n",
              "  <div id=\"df-c31fad56-e458-4238-a15e-875db9356fb4\">\n",
              "    <div class=\"colab-df-container\">\n",
              "      <div>\n",
              "<style scoped>\n",
              "    .dataframe tbody tr th:only-of-type {\n",
              "        vertical-align: middle;\n",
              "    }\n",
              "\n",
              "    .dataframe tbody tr th {\n",
              "        vertical-align: top;\n",
              "    }\n",
              "\n",
              "    .dataframe thead th {\n",
              "        text-align: right;\n",
              "    }\n",
              "</style>\n",
              "<table border=\"1\" class=\"dataframe\">\n",
              "  <thead>\n",
              "    <tr style=\"text-align: right;\">\n",
              "      <th></th>\n",
              "      <th>Tempat laundry dengan teknologi tinggi dan ditangani oleh tenaga profesional memberi jaminan kepuasan kepada para customer</th>\n",
              "      <th>1</th>\n",
              "    </tr>\n",
              "  </thead>\n",
              "  <tbody>\n",
              "    <tr>\n",
              "      <th>0</th>\n",
              "      <td>Hasilnya sangat bagus dan memuaskan</td>\n",
              "      <td>1</td>\n",
              "    </tr>\n",
              "    <tr>\n",
              "      <th>1</th>\n",
              "      <td>Hasil laundry bagus dan wangi</td>\n",
              "      <td>1</td>\n",
              "    </tr>\n",
              "    <tr>\n",
              "      <th>2</th>\n",
              "      <td>Kurang bersih kadang nyucinya</td>\n",
              "      <td>0</td>\n",
              "    </tr>\n",
              "    <tr>\n",
              "      <th>3</th>\n",
              "      <td>Pekerjaannya tidak tepat waktu</td>\n",
              "      <td>0</td>\n",
              "    </tr>\n",
              "    <tr>\n",
              "      <th>4</th>\n",
              "      <td>Beberapa baju kena pemutih spertinya jadi agak...</td>\n",
              "      <td>0</td>\n",
              "    </tr>\n",
              "  </tbody>\n",
              "</table>\n",
              "</div>\n",
              "      <button class=\"colab-df-convert\" onclick=\"convertToInteractive('df-c31fad56-e458-4238-a15e-875db9356fb4')\"\n",
              "              title=\"Convert this dataframe to an interactive table.\"\n",
              "              style=\"display:none;\">\n",
              "        \n",
              "  <svg xmlns=\"http://www.w3.org/2000/svg\" height=\"24px\"viewBox=\"0 0 24 24\"\n",
              "       width=\"24px\">\n",
              "    <path d=\"M0 0h24v24H0V0z\" fill=\"none\"/>\n",
              "    <path d=\"M18.56 5.44l.94 2.06.94-2.06 2.06-.94-2.06-.94-.94-2.06-.94 2.06-2.06.94zm-11 1L8.5 8.5l.94-2.06 2.06-.94-2.06-.94L8.5 2.5l-.94 2.06-2.06.94zm10 10l.94 2.06.94-2.06 2.06-.94-2.06-.94-.94-2.06-.94 2.06-2.06.94z\"/><path d=\"M17.41 7.96l-1.37-1.37c-.4-.4-.92-.59-1.43-.59-.52 0-1.04.2-1.43.59L10.3 9.45l-7.72 7.72c-.78.78-.78 2.05 0 2.83L4 21.41c.39.39.9.59 1.41.59.51 0 1.02-.2 1.41-.59l7.78-7.78 2.81-2.81c.8-.78.8-2.07 0-2.86zM5.41 20L4 18.59l7.72-7.72 1.47 1.35L5.41 20z\"/>\n",
              "  </svg>\n",
              "      </button>\n",
              "      \n",
              "  <style>\n",
              "    .colab-df-container {\n",
              "      display:flex;\n",
              "      flex-wrap:wrap;\n",
              "      gap: 12px;\n",
              "    }\n",
              "\n",
              "    .colab-df-convert {\n",
              "      background-color: #E8F0FE;\n",
              "      border: none;\n",
              "      border-radius: 50%;\n",
              "      cursor: pointer;\n",
              "      display: none;\n",
              "      fill: #1967D2;\n",
              "      height: 32px;\n",
              "      padding: 0 0 0 0;\n",
              "      width: 32px;\n",
              "    }\n",
              "\n",
              "    .colab-df-convert:hover {\n",
              "      background-color: #E2EBFA;\n",
              "      box-shadow: 0px 1px 2px rgba(60, 64, 67, 0.3), 0px 1px 3px 1px rgba(60, 64, 67, 0.15);\n",
              "      fill: #174EA6;\n",
              "    }\n",
              "\n",
              "    [theme=dark] .colab-df-convert {\n",
              "      background-color: #3B4455;\n",
              "      fill: #D2E3FC;\n",
              "    }\n",
              "\n",
              "    [theme=dark] .colab-df-convert:hover {\n",
              "      background-color: #434B5C;\n",
              "      box-shadow: 0px 1px 3px 1px rgba(0, 0, 0, 0.15);\n",
              "      filter: drop-shadow(0px 1px 2px rgba(0, 0, 0, 0.3));\n",
              "      fill: #FFFFFF;\n",
              "    }\n",
              "  </style>\n",
              "\n",
              "      <script>\n",
              "        const buttonEl =\n",
              "          document.querySelector('#df-c31fad56-e458-4238-a15e-875db9356fb4 button.colab-df-convert');\n",
              "        buttonEl.style.display =\n",
              "          google.colab.kernel.accessAllowed ? 'block' : 'none';\n",
              "\n",
              "        async function convertToInteractive(key) {\n",
              "          const element = document.querySelector('#df-c31fad56-e458-4238-a15e-875db9356fb4');\n",
              "          const dataTable =\n",
              "            await google.colab.kernel.invokeFunction('convertToInteractive',\n",
              "                                                     [key], {});\n",
              "          if (!dataTable) return;\n",
              "\n",
              "          const docLinkHtml = 'Like what you see? Visit the ' +\n",
              "            '<a target=\"_blank\" href=https://colab.research.google.com/notebooks/data_table.ipynb>data table notebook</a>'\n",
              "            + ' to learn more about interactive tables.';\n",
              "          element.innerHTML = '';\n",
              "          dataTable['output_type'] = 'display_data';\n",
              "          await google.colab.output.renderOutput(dataTable, element);\n",
              "          const docLink = document.createElement('div');\n",
              "          docLink.innerHTML = docLinkHtml;\n",
              "          element.appendChild(docLink);\n",
              "        }\n",
              "      </script>\n",
              "    </div>\n",
              "  </div>\n",
              "  "
            ]
          },
          "metadata": {},
          "execution_count": 2
        }
      ],
      "source": [
        "df = pd.read_csv(\"/content/drive/MyDrive/dataset capstone/databaru.csv\")\n",
        "df.head()"
      ]
    },
    {
      "cell_type": "code",
      "execution_count": null,
      "id": "07f40bd7",
      "metadata": {
        "colab": {
          "base_uri": "https://localhost:8080/"
        },
        "id": "07f40bd7",
        "outputId": "80b35dee-13fb-46b3-8fde-4248db6f865a"
      },
      "outputs": [
        {
          "output_type": "execute_result",
          "data": {
            "text/plain": [
              "Tempat laundry dengan teknologi tinggi dan ditangani oleh tenaga profesional memberi jaminan kepuasan kepada para customer    object\n",
              "1                                                                                                                              int64\n",
              "dtype: object"
            ]
          },
          "metadata": {},
          "execution_count": 5
        }
      ],
      "source": [
        "df.dtypes"
      ]
    },
    {
      "cell_type": "code",
      "execution_count": null,
      "id": "4621ac14",
      "metadata": {
        "id": "4621ac14"
      },
      "outputs": [],
      "source": [
        "df.columns= [\"text\", \"target\"]"
      ]
    },
    {
      "cell_type": "code",
      "execution_count": null,
      "id": "ec7f727d",
      "metadata": {
        "colab": {
          "base_uri": "https://localhost:8080/",
          "height": 443
        },
        "id": "ec7f727d",
        "outputId": "96e4dfb5-bdca-400b-e83c-a8aad6ed814d"
      },
      "outputs": [
        {
          "output_type": "execute_result",
          "data": {
            "text/plain": [
              "<Axes: >"
            ]
          },
          "metadata": {},
          "execution_count": 7
        },
        {
          "output_type": "display_data",
          "data": {
            "text/plain": [
              "<Figure size 640x480 with 1 Axes>"
            ],
            "image/png": "[encoded data removed]"
          },
          "metadata": {}
        }
      ],
      "source": [
        "df[\"target\"].value_counts().plot(kind=\"bar\")"
      ]
    },
    {
      "cell_type": "markdown",
      "id": "9d4ccd44",
      "metadata": {
        "id": "9d4ccd44"
      },
      "source": [
        "## Preprocessing"
      ]
    },
    {
      "cell_type": "markdown",
      "id": "974c580b",
      "metadata": {
        "id": "974c580b"
      },
      "source": [
        "### Case Folding"
      ]
    },
    {
      "cell_type": "code",
      "execution_count": null,
      "id": "c1a2a9c5",
      "metadata": {
        "colab": {
          "base_uri": "https://localhost:8080/"
        },
        "id": "c1a2a9c5",
        "outputId": "4cb9d330-7981-4b95-823c-61b76c239b77"
      },
      "outputs": [
        {
          "output_type": "stream",
          "name": "stdout",
          "text": [
            "                                                    text  target\n",
            "0      Tempat laundry dengan teknologi tinggi dan dit...       1\n",
            "1                    Hasilnya sangat bagus dan memuaskan       1\n",
            "2                          Hasil laundry bagus dan wangi       1\n",
            "3                          Kurang bersih kadang nyucinya       0\n",
            "4                         Pekerjaannya tidak tepat waktu       0\n",
            "...                                                  ...     ...\n",
            "10395  Pakaian saya selalu kuat dan tahan lama dengan...       1\n",
            "10396  Laundry ini memiliki tim yang terlatih dan ber...       1\n",
            "10397  Mereka memberikan layanan perawatan noda yang ...       1\n",
            "10398  Layanan pengeringan dilakukan dengan hati-hati...       1\n",
            "10399  Saya merasa sangat nyaman menggunakan jasa lau...       1\n",
            "\n",
            "[10400 rows x 2 columns]\n"
          ]
        }
      ],
      "source": [
        "print(df)"
      ]
    },
    {
      "cell_type": "code",
      "execution_count": null,
      "id": "9a5aa0c5",
      "metadata": {
        "id": "9a5aa0c5"
      },
      "outputs": [],
      "source": [
        "import re"
      ]
    },
    {
      "cell_type": "code",
      "execution_count": null,
      "id": "7c47b4bd",
      "metadata": {
        "colab": {
          "base_uri": "https://localhost:8080/"
        },
        "id": "7c47b4bd",
        "outputId": "c8081524-3a35-4c09-efff-111686041d72"
      },
      "outputs": [
        {
          "output_type": "stream",
          "name": "stdout",
          "text": [
            "                                                   text  target\n",
            "0                   hasilnya sangat bagus dan memuaskan       1\n",
            "1                         hasil laundry bagus dan wangi       1\n",
            "2                         kurang bersih kadang nyucinya       0\n",
            "3                        pekerjaannya tidak tepat waktu       0\n",
            "4     beberapa baju kena pemutih spertinya jadi agak...       0\n",
            "...                                                 ...     ...\n",
            "2594  pakaian saya selalu dijaga agar tetap awet dan...       1\n",
            "2595  laundry ini memiliki tim yang terampil dan ber...       1\n",
            "2596  mereka memberikan layanan penanganan noda yang...       1\n",
            "2597  layanan pengeringan mereka dilakukan dengan ha...       1\n",
            "2598  saya merasa sangat nyaman menggunakan layanan ...       1\n",
            "\n",
            "[2599 rows x 2 columns]\n"
          ]
        }
      ],
      "source": [
        "#Mengubah menjadi huruf kecil semua\n",
        "df['text'] = df['text'].apply(lambda x: x.lower())\n",
        "print(df)"
      ]
    },
    {
      "cell_type": "markdown",
      "id": "fdc107f9",
      "metadata": {
        "id": "fdc107f9"
      },
      "source": [
        "### Data Cleaning"
      ]
    },
    {
      "cell_type": "code",
      "execution_count": null,
      "id": "31650e41",
      "metadata": {
        "colab": {
          "base_uri": "https://localhost:8080/"
        },
        "id": "31650e41",
        "outputId": "0075439e-9b6d-456e-9622-6b4c5d90bb0f"
      },
      "outputs": [
        {
          "output_type": "stream",
          "name": "stdout",
          "text": [
            "                                                   text  target\n",
            "0                   hasilnya sangat bagus dan memuaskan       1\n",
            "1                         hasil laundry bagus dan wangi       1\n",
            "2                         kurang bersih kadang nyucinya       0\n",
            "3                        pekerjaannya tidak tepat waktu       0\n",
            "4     beberapa baju kena pemutih spertinya jadi agak...       0\n",
            "...                                                 ...     ...\n",
            "2594  pakaian saya selalu dijaga agar tetap awet dan...       1\n",
            "2595  laundry ini memiliki tim yang terampil dan ber...       1\n",
            "2596  mereka memberikan layanan penanganan noda yang...       1\n",
            "2597  layanan pengeringan mereka dilakukan dengan ha...       1\n",
            "2598  saya merasa sangat nyaman menggunakan layanan ...       1\n",
            "\n",
            "[2599 rows x 2 columns]\n"
          ]
        }
      ],
      "source": [
        "#menghapus karakter dan tanda baca yang tidak diinginkan\n",
        "df['text'] = df['text'].apply(lambda x: re.sub(r'[^a-zA-Z0-9\\s]', '', x))\n",
        "print(df)"
      ]
    },
    {
      "cell_type": "code",
      "execution_count": null,
      "id": "b126884f",
      "metadata": {
        "colab": {
          "base_uri": "https://localhost:8080/",
          "height": 35
        },
        "id": "b126884f",
        "outputId": "e245760c-9009-43ff-e405-eb515cdfc5c1"
      },
      "outputs": [
        {
          "output_type": "execute_result",
          "data": {
            "text/plain": [
              "'rapi wangi ramah  tepat waktu recommended'"
            ],
            "application/vnd.google.colaboratory.intrinsic+json": {
              "type": "string"
            }
          },
          "metadata": {},
          "execution_count": 10
        }
      ],
      "source": [
        "df.loc[40, 'text']"
      ]
    },
    {
      "cell_type": "code",
      "execution_count": null,
      "id": "e7fb97d2",
      "metadata": {
        "colab": {
          "base_uri": "https://localhost:8080/"
        },
        "id": "e7fb97d2",
        "outputId": "c33027e8-c6a9-432a-ff14-5cf159a35452"
      },
      "outputs": [
        {
          "output_type": "stream",
          "name": "stderr",
          "text": [
            "<ipython-input-11-643fac20faa4>:2: FutureWarning: The default value of regex will change from True to False in a future version.\n",
            "  df['text'] = df['text'].str.replace(r'\\s+', ' ')\n"
          ]
        }
      ],
      "source": [
        "#menghapus spasi berlebih\n",
        "df['text'] = df['text'].str.replace(r'\\s+', ' ')"
      ]
    },
    {
      "cell_type": "code",
      "execution_count": null,
      "id": "a2f2677a",
      "metadata": {
        "colab": {
          "base_uri": "https://localhost:8080/",
          "height": 35
        },
        "id": "a2f2677a",
        "outputId": "3e429368-7d0f-48d1-d8fd-81caa4e6c5f0"
      },
      "outputs": [
        {
          "output_type": "execute_result",
          "data": {
            "text/plain": [
              "'rapi wangi ramah tepat waktu recommended'"
            ],
            "application/vnd.google.colaboratory.intrinsic+json": {
              "type": "string"
            }
          },
          "metadata": {},
          "execution_count": 12
        }
      ],
      "source": [
        "df.loc[40, 'text']"
      ]
    },
    {
      "cell_type": "markdown",
      "id": "6663b6dd",
      "metadata": {
        "id": "6663b6dd"
      },
      "source": [
        "### N-Gram"
      ]
    },
    {
      "cell_type": "code",
      "execution_count": null,
      "id": "97ed971e",
      "metadata": {
        "colab": {
          "base_uri": "https://localhost:8080/"
        },
        "id": "97ed971e",
        "outputId": "5a2b4884-d2e0-4c6f-dfe7-e6c01a297574"
      },
      "outputs": [
        {
          "output_type": "stream",
          "name": "stdout",
          "text": [
            "                                                    text  target\n",
            "0      tempat laundry dengan teknologi tinggi dan dit...       1\n",
            "1                    hasilnya sangat bagus dan memuaskan       1\n",
            "2                          hasil laundry bagus dan wangi       1\n",
            "3                          kurang bersih kadang nyucinya       0\n",
            "4                         pekerjaannya tidak tepat waktu       0\n",
            "...                                                  ...     ...\n",
            "10395  pakaian saya selalu kuat dan tahan lama dengan...       1\n",
            "10396  laundry ini memiliki tim yang terlatih dan ber...       1\n",
            "10397  mereka memberikan layanan perawatan noda yang ...       1\n",
            "10398  layanan pengeringan dilakukan dengan hatihati ...       1\n",
            "10399  saya merasa sangat nyaman menggunakan jasa lau...       1\n",
            "\n",
            "[10400 rows x 2 columns]\n"
          ]
        }
      ],
      "source": [
        "print(df)"
      ]
    },
    {
      "cell_type": "code",
      "execution_count": null,
      "id": "acffb437",
      "metadata": {
        "colab": {
          "base_uri": "https://localhost:8080/"
        },
        "id": "acffb437",
        "outputId": "05a1799f-e5cc-4834-f9a0-c2cf7835e4b2"
      },
      "outputs": [
        {
          "output_type": "stream",
          "name": "stderr",
          "text": [
            "[nltk_data] Downloading package punkt to /root/nltk_data...\n",
            "[nltk_data]   Unzipping tokenizers/punkt.zip.\n"
          ]
        }
      ],
      "source": [
        "import nltk\n",
        "nltk.download('punkt')\n",
        "from nltk.corpus import stopwords"
      ]
    },
    {
      "cell_type": "code",
      "execution_count": null,
      "id": "40d78b30",
      "metadata": {
        "id": "40d78b30"
      },
      "outputs": [],
      "source": [
        "from nltk.util import ngrams\n",
        "from nltk.tokenize import word_tokenize"
      ]
    },
    {
      "cell_type": "code",
      "source": [],
      "metadata": {
        "id": "hfIommQewTBZ"
      },
      "id": "hfIommQewTBZ",
      "execution_count": null,
      "outputs": []
    },
    {
      "cell_type": "code",
      "execution_count": null,
      "id": "b63d2dc8",
      "metadata": {
        "colab": {
          "base_uri": "https://localhost:8080/"
        },
        "id": "b63d2dc8",
        "outputId": "b67a7de3-dc72-4a56-8941-988e193dd621"
      },
      "outputs": [
        {
          "output_type": "stream",
          "name": "stdout",
          "text": [
            "                                                   text  target  \\\n",
            "0                   hasilnya sangat bagus dan memuaskan       1   \n",
            "1                         hasil laundry bagus dan wangi       1   \n",
            "2                         kurang bersih kadang nyucinya       0   \n",
            "3                        pekerjaannya tidak tepat waktu       0   \n",
            "4     beberapa baju kena pemutih spertinya jadi agak...       0   \n",
            "...                                                 ...     ...   \n",
            "2594  pakaian saya selalu dijaga agar tetap awet dan...       1   \n",
            "2595  laundry ini memiliki tim yang terampil dan ber...       1   \n",
            "2596  mereka memberikan layanan penanganan noda yang...       1   \n",
            "2597  layanan pengeringan mereka dilakukan dengan ha...       1   \n",
            "2598  saya merasa sangat nyaman menggunakan layanan ...       1   \n",
            "\n",
            "                                                 Tokens  \\\n",
            "0             [hasilnya, sangat, bagus, dan, memuaskan]   \n",
            "1                   [hasil, laundry, bagus, dan, wangi]   \n",
            "2                    [kurang, bersih, kadang, nyucinya]   \n",
            "3                   [pekerjaannya, tidak, tepat, waktu]   \n",
            "4     [beberapa, baju, kena, pemutih, spertinya, jad...   \n",
            "...                                                 ...   \n",
            "2594  [pakaian, saya, selalu, dijaga, agar, tetap, a...   \n",
            "2595  [laundry, ini, memiliki, tim, yang, terampil, ...   \n",
            "2596  [mereka, memberikan, layanan, penanganan, noda...   \n",
            "2597  [layanan, pengeringan, mereka, dilakukan, deng...   \n",
            "2598  [saya, merasa, sangat, nyaman, menggunakan, la...   \n",
            "\n",
            "                                        Combined_Tokens  \n",
            "0              [hasilnya, sangat_bagus, dan, memuaskan]  \n",
            "1                   [hasil, laundry, bagus, dan, wangi]  \n",
            "2                      [kurang_bersih, kadang_nyucinya]  \n",
            "3                    [pekerjaannya, tidak_tepat, waktu]  \n",
            "4     [beberapa, baju, kena, pemutih, spertinya, jad...  \n",
            "...                                                 ...  \n",
            "2594  [pakaian, saya, selalu, dijaga, agar, tetap, a...  \n",
            "2595  [laundry, ini, memiliki, tim, yang, terampil, ...  \n",
            "2596  [mereka, memberikan, layanan, penanganan, noda...  \n",
            "2597  [layanan, pengeringan, mereka, dilakukan, deng...  \n",
            "2598  [saya, merasa, sangat_nyaman, menggunakan, lay...  \n",
            "\n",
            "[2599 rows x 4 columns]\n"
          ]
        }
      ],
      "source": [
        "# Menggabungkan kata-kata penting dengan kata-kata yang mengikuti menggunakan teknik N-gram\n",
        "def combine_important_words(tokens):\n",
        "    combined_tokens = []\n",
        "    skip_next = False\n",
        "    for i in range(len(tokens) - 1):\n",
        "        if skip_next:\n",
        "            skip_next = False\n",
        "            continue\n",
        "        if tokens[i] in ['tidak', 'kurang', 'gak', 'sangat', 'banget', 'kadang', 'terlalu','yg','gk']:\n",
        "            combined_tokens.append(tokens[i] + '_' + tokens[i+1])\n",
        "            skip_next = True\n",
        "        else:\n",
        "            combined_tokens.append(tokens[i])\n",
        "    if not skip_next:\n",
        "        combined_tokens.append(tokens[-1])\n",
        "    return combined_tokens\n",
        "\n",
        "df['Tokens'] = df['text'].apply(word_tokenize)\n",
        "df['Combined_Tokens'] = df['Tokens'].apply(combine_important_words)\n",
        "\n",
        "print(df)"
      ]
    },
    {
      "cell_type": "markdown",
      "id": "c4011827",
      "metadata": {
        "id": "c4011827"
      },
      "source": [
        "### Stopword Removal"
      ]
    },
    {
      "cell_type": "code",
      "execution_count": null,
      "id": "b00e74b3",
      "metadata": {
        "colab": {
          "base_uri": "https://localhost:8080/",
          "height": 206
        },
        "id": "b00e74b3",
        "outputId": "d19d83d4-b79a-4114-cb3a-231e8f528e63"
      },
      "outputs": [
        {
          "output_type": "execute_result",
          "data": {
            "text/plain": [
              "                                                text  target  \\\n",
              "0  tempat laundry dengan teknologi tinggi dan dit...       1   \n",
              "1                hasilnya sangat bagus dan memuaskan       1   \n",
              "2                      hasil laundry bagus dan wangi       1   \n",
              "3                      kurang bersih kadang nyucinya       0   \n",
              "4                     pekerjaannya tidak tepat waktu       0   \n",
              "\n",
              "                                              Tokens  \\\n",
              "0  [tempat, laundry, dengan, teknologi, tinggi, d...   \n",
              "1          [hasilnya, sangat, bagus, dan, memuaskan]   \n",
              "2                [hasil, laundry, bagus, dan, wangi]   \n",
              "3                 [kurang, bersih, kadang, nyucinya]   \n",
              "4                [pekerjaannya, tidak, tepat, waktu]   \n",
              "\n",
              "                                     Combined_Tokens  \n",
              "0  [tempat, laundry, dengan, teknologi, tinggi, d...  \n",
              "1           [hasilnya, sangat_bagus, dan, memuaskan]  \n",
              "2                [hasil, laundry, bagus, dan, wangi]  \n",
              "3                   [kurang_bersih, kadang_nyucinya]  \n",
              "4                 [pekerjaannya, tidak_tepat, waktu]  "
            ],
            "text/html": [
              "\n",
              "  <div id=\"df-05002d66-f534-48ce-ab87-81e6b8620eaf\">\n",
              "    <div class=\"colab-df-container\">\n",
              "      <div>\n",
              "<style scoped>\n",
              "    .dataframe tbody tr th:only-of-type {\n",
              "        vertical-align: middle;\n",
              "    }\n",
              "\n",
              "    .dataframe tbody tr th {\n",
              "        vertical-align: top;\n",
              "    }\n",
              "\n",
              "    .dataframe thead th {\n",
              "        text-align: right;\n",
              "    }\n",
              "</style>\n",
              "<table border=\"1\" class=\"dataframe\">\n",
              "  <thead>\n",
              "    <tr style=\"text-align: right;\">\n",
              "      <th></th>\n",
              "      <th>text</th>\n",
              "      <th>target</th>\n",
              "      <th>Tokens</th>\n",
              "      <th>Combined_Tokens</th>\n",
              "    </tr>\n",
              "  </thead>\n",
              "  <tbody>\n",
              "    <tr>\n",
              "      <th>0</th>\n",
              "      <td>tempat laundry dengan teknologi tinggi dan dit...</td>\n",
              "      <td>1</td>\n",
              "      <td>[tempat, laundry, dengan, teknologi, tinggi, d...</td>\n",
              "      <td>[tempat, laundry, dengan, teknologi, tinggi, d...</td>\n",
              "    </tr>\n",
              "    <tr>\n",
              "      <th>1</th>\n",
              "      <td>hasilnya sangat bagus dan memuaskan</td>\n",
              "      <td>1</td>\n",
              "      <td>[hasilnya, sangat, bagus, dan, memuaskan]</td>\n",
              "      <td>[hasilnya, sangat_bagus, dan, memuaskan]</td>\n",
              "    </tr>\n",
              "    <tr>\n",
              "      <th>2</th>\n",
              "      <td>hasil laundry bagus dan wangi</td>\n",
              "      <td>1</td>\n",
              "      <td>[hasil, laundry, bagus, dan, wangi]</td>\n",
              "      <td>[hasil, laundry, bagus, dan, wangi]</td>\n",
              "    </tr>\n",
              "    <tr>\n",
              "      <th>3</th>\n",
              "      <td>kurang bersih kadang nyucinya</td>\n",
              "      <td>0</td>\n",
              "      <td>[kurang, bersih, kadang, nyucinya]</td>\n",
              "      <td>[kurang_bersih, kadang_nyucinya]</td>\n",
              "    </tr>\n",
              "    <tr>\n",
              "      <th>4</th>\n",
              "      <td>pekerjaannya tidak tepat waktu</td>\n",
              "      <td>0</td>\n",
              "      <td>[pekerjaannya, tidak, tepat, waktu]</td>\n",
              "      <td>[pekerjaannya, tidak_tepat, waktu]</td>\n",
              "    </tr>\n",
              "  </tbody>\n",
              "</table>\n",
              "</div>\n",
              "      <button class=\"colab-df-convert\" onclick=\"convertToInteractive('df-05002d66-f534-48ce-ab87-81e6b8620eaf')\"\n",
              "              title=\"Convert this dataframe to an interactive table.\"\n",
              "              style=\"display:none;\">\n",
              "        \n",
              "  <svg xmlns=\"http://www.w3.org/2000/svg\" height=\"24px\"viewBox=\"0 0 24 24\"\n",
              "       width=\"24px\">\n",
              "    <path d=\"M0 0h24v24H0V0z\" fill=\"none\"/>\n",
              "    <path d=\"M18.56 5.44l.94 2.06.94-2.06 2.06-.94-2.06-.94-.94-2.06-.94 2.06-2.06.94zm-11 1L8.5 8.5l.94-2.06 2.06-.94-2.06-.94L8.5 2.5l-.94 2.06-2.06.94zm10 10l.94 2.06.94-2.06 2.06-.94-2.06-.94-.94-2.06-.94 2.06-2.06.94z\"/><path d=\"M17.41 7.96l-1.37-1.37c-.4-.4-.92-.59-1.43-.59-.52 0-1.04.2-1.43.59L10.3 9.45l-7.72 7.72c-.78.78-.78 2.05 0 2.83L4 21.41c.39.39.9.59 1.41.59.51 0 1.02-.2 1.41-.59l7.78-7.78 2.81-2.81c.8-.78.8-2.07 0-2.86zM5.41 20L4 18.59l7.72-7.72 1.47 1.35L5.41 20z\"/>\n",
              "  </svg>\n",
              "      </button>\n",
              "      \n",
              "  <style>\n",
              "    .colab-df-container {\n",
              "      display:flex;\n",
              "      flex-wrap:wrap;\n",
              "      gap: 12px;\n",
              "    }\n",
              "\n",
              "    .colab-df-convert {\n",
              "      background-color: #E8F0FE;\n",
              "      border: none;\n",
              "      border-radius: 50%;\n",
              "      cursor: pointer;\n",
              "      display: none;\n",
              "      fill: #1967D2;\n",
              "      height: 32px;\n",
              "      padding: 0 0 0 0;\n",
              "      width: 32px;\n",
              "    }\n",
              "\n",
              "    .colab-df-convert:hover {\n",
              "      background-color: #E2EBFA;\n",
              "      box-shadow: 0px 1px 2px rgba(60, 64, 67, 0.3), 0px 1px 3px 1px rgba(60, 64, 67, 0.15);\n",
              "      fill: #174EA6;\n",
              "    }\n",
              "\n",
              "    [theme=dark] .colab-df-convert {\n",
              "      background-color: #3B4455;\n",
              "      fill: #D2E3FC;\n",
              "    }\n",
              "\n",
              "    [theme=dark] .colab-df-convert:hover {\n",
              "      background-color: #434B5C;\n",
              "      box-shadow: 0px 1px 3px 1px rgba(0, 0, 0, 0.15);\n",
              "      filter: drop-shadow(0px 1px 2px rgba(0, 0, 0, 0.3));\n",
              "      fill: #FFFFFF;\n",
              "    }\n",
              "  </style>\n",
              "\n",
              "      <script>\n",
              "        const buttonEl =\n",
              "          document.querySelector('#df-05002d66-f534-48ce-ab87-81e6b8620eaf button.colab-df-convert');\n",
              "        buttonEl.style.display =\n",
              "          google.colab.kernel.accessAllowed ? 'block' : 'none';\n",
              "\n",
              "        async function convertToInteractive(key) {\n",
              "          const element = document.querySelector('#df-05002d66-f534-48ce-ab87-81e6b8620eaf');\n",
              "          const dataTable =\n",
              "            await google.colab.kernel.invokeFunction('convertToInteractive',\n",
              "                                                     [key], {});\n",
              "          if (!dataTable) return;\n",
              "\n",
              "          const docLinkHtml = 'Like what you see? Visit the ' +\n",
              "            '<a target=\"_blank\" href=https://colab.research.google.com/notebooks/data_table.ipynb>data table notebook</a>'\n",
              "            + ' to learn more about interactive tables.';\n",
              "          element.innerHTML = '';\n",
              "          dataTable['output_type'] = 'display_data';\n",
              "          await google.colab.output.renderOutput(dataTable, element);\n",
              "          const docLink = document.createElement('div');\n",
              "          docLink.innerHTML = docLinkHtml;\n",
              "          element.appendChild(docLink);\n",
              "        }\n",
              "      </script>\n",
              "    </div>\n",
              "  </div>\n",
              "  "
            ]
          },
          "metadata": {},
          "execution_count": 17
        }
      ],
      "source": [
        "df.head()"
      ]
    },
    {
      "cell_type": "code",
      "source": [
        "nltk.download('stopwords')"
      ],
      "metadata": {
        "colab": {
          "base_uri": "https://localhost:8080/"
        },
        "id": "d84KK9i5wfOi",
        "outputId": "dcc566c5-d6ed-4243-da64-eba7508cc867"
      },
      "id": "d84KK9i5wfOi",
      "execution_count": null,
      "outputs": [
        {
          "output_type": "stream",
          "name": "stderr",
          "text": [
            "[nltk_data] Downloading package stopwords to /root/nltk_data...\n",
            "[nltk_data]   Unzipping corpora/stopwords.zip.\n"
          ]
        },
        {
          "output_type": "execute_result",
          "data": {
            "text/plain": [
              "True"
            ]
          },
          "metadata": {},
          "execution_count": 15
        }
      ]
    },
    {
      "cell_type": "code",
      "execution_count": null,
      "id": "a6f309de",
      "metadata": {
        "colab": {
          "base_uri": "https://localhost:8080/"
        },
        "id": "a6f309de",
        "outputId": "061d25ce-0317-4e38-ca9c-8c7b0f367037"
      },
      "outputs": [
        {
          "output_type": "stream",
          "name": "stdout",
          "text": [
            "                                                   text  target  \\\n",
            "0                   hasilnya sangat bagus dan memuaskan       1   \n",
            "1                         hasil laundry bagus dan wangi       1   \n",
            "2                         kurang bersih kadang nyucinya       0   \n",
            "3                        pekerjaannya tidak tepat waktu       0   \n",
            "4     beberapa baju kena pemutih spertinya jadi agak...       0   \n",
            "...                                                 ...     ...   \n",
            "2594  pakaian saya selalu dijaga agar tetap awet dan...       1   \n",
            "2595  laundry ini memiliki tim yang terampil dan ber...       1   \n",
            "2596  mereka memberikan layanan penanganan noda yang...       1   \n",
            "2597  layanan pengeringan mereka dilakukan dengan ha...       1   \n",
            "2598  saya merasa sangat nyaman menggunakan layanan ...       1   \n",
            "\n",
            "                                                 Tokens  \\\n",
            "0             [hasilnya, sangat, bagus, dan, memuaskan]   \n",
            "1                   [hasil, laundry, bagus, dan, wangi]   \n",
            "2                    [kurang, bersih, kadang, nyucinya]   \n",
            "3                   [pekerjaannya, tidak, tepat, waktu]   \n",
            "4     [beberapa, baju, kena, pemutih, spertinya, jad...   \n",
            "...                                                 ...   \n",
            "2594  [pakaian, saya, selalu, dijaga, agar, tetap, a...   \n",
            "2595  [laundry, ini, memiliki, tim, yang, terampil, ...   \n",
            "2596  [mereka, memberikan, layanan, penanganan, noda...   \n",
            "2597  [layanan, pengeringan, mereka, dilakukan, deng...   \n",
            "2598  [saya, merasa, sangat, nyaman, menggunakan, la...   \n",
            "\n",
            "                                        Combined_Tokens  \\\n",
            "0              [hasilnya, sangat_bagus, dan, memuaskan]   \n",
            "1                   [hasil, laundry, bagus, dan, wangi]   \n",
            "2                      [kurang_bersih, kadang_nyucinya]   \n",
            "3                    [pekerjaannya, tidak_tepat, waktu]   \n",
            "4     [beberapa, baju, kena, pemutih, spertinya, jad...   \n",
            "...                                                 ...   \n",
            "2594  [pakaian, saya, selalu, dijaga, agar, tetap, a...   \n",
            "2595  [laundry, ini, memiliki, tim, yang, terampil, ...   \n",
            "2596  [mereka, memberikan, layanan, penanganan, noda...   \n",
            "2597  [layanan, pengeringan, mereka, dilakukan, deng...   \n",
            "2598  [saya, merasa, sangat_nyaman, menggunakan, lay...   \n",
            "\n",
            "                                           Clean_Tokens  \\\n",
            "0                   [hasilnya, sangat_bagus, memuaskan]   \n",
            "1                        [hasil, laundry, bagus, wangi]   \n",
            "2                      [kurang_bersih, kadang_nyucinya]   \n",
            "3                           [pekerjaannya, tidak_tepat]   \n",
            "4              [baju, kena, pemutih, spertinya, luntur]   \n",
            "...                                                 ...   \n",
            "2594  [pakaian, dijaga, awet, tahan, perlindungan, t...   \n",
            "2595  [laundry, memiliki, tim, terampil, berpengalam...   \n",
            "2596  [layanan, penanganan, noda, efektif, menghilan...   \n",
            "2597  [layanan, pengeringan, hatihati, menjaga, kele...   \n",
            "2598  [sangat_nyaman, layanan, laundry, hasil, memua...   \n",
            "\n",
            "                                             clean_text  \n",
            "0                       hasilnya sangat_bagus memuaskan  \n",
            "1                             hasil laundry bagus wangi  \n",
            "2                         kurang_bersih kadang_nyucinya  \n",
            "3                              pekerjaannya tidak_tepat  \n",
            "4                    baju kena pemutih spertinya luntur  \n",
            "...                                                 ...  \n",
            "2594    pakaian dijaga awet tahan perlindungan tambahan  \n",
            "2595  laundry memiliki tim terampil berpengalaman me...  \n",
            "2596  layanan penanganan noda efektif menghilangkan ...  \n",
            "2597  layanan pengeringan hatihati menjaga kelembuta...  \n",
            "2598      sangat_nyaman layanan laundry hasil memuaskan  \n",
            "\n",
            "[2599 rows x 6 columns]\n"
          ]
        }
      ],
      "source": [
        "stopwords_ind = stopwords.words('indonesian')\n",
        "df['Clean_Tokens'] = df['Combined_Tokens'].apply(lambda x: [word for word in x if word.lower() not in stopwords_ind])\n",
        "\n",
        "# Mengembalikan teks review dari N-gram yang telah dihapus stopword\n",
        "df['clean_text'] = df['Clean_Tokens'].apply(lambda x: ' '.join(x))\n",
        "\n",
        "print(df)"
      ]
    },
    {
      "cell_type": "code",
      "execution_count": null,
      "id": "19d12c31",
      "metadata": {
        "colab": {
          "base_uri": "https://localhost:8080/",
          "height": 320
        },
        "id": "19d12c31",
        "outputId": "41b4e614-c62e-47c6-987a-4c565b148325"
      },
      "outputs": [
        {
          "output_type": "execute_result",
          "data": {
            "text/plain": [
              "                                                text  target  \\\n",
              "0  tempat laundry dengan teknologi tinggi dan dit...       1   \n",
              "1                hasilnya sangat bagus dan memuaskan       1   \n",
              "2                      hasil laundry bagus dan wangi       1   \n",
              "3                      kurang bersih kadang nyucinya       0   \n",
              "4                     pekerjaannya tidak tepat waktu       0   \n",
              "\n",
              "                                              Tokens  \\\n",
              "0  [tempat, laundry, dengan, teknologi, tinggi, d...   \n",
              "1          [hasilnya, sangat, bagus, dan, memuaskan]   \n",
              "2                [hasil, laundry, bagus, dan, wangi]   \n",
              "3                 [kurang, bersih, kadang, nyucinya]   \n",
              "4                [pekerjaannya, tidak, tepat, waktu]   \n",
              "\n",
              "                                     Combined_Tokens  \\\n",
              "0  [tempat, laundry, dengan, teknologi, tinggi, d...   \n",
              "1           [hasilnya, sangat_bagus, dan, memuaskan]   \n",
              "2                [hasil, laundry, bagus, dan, wangi]   \n",
              "3                   [kurang_bersih, kadang_nyucinya]   \n",
              "4                 [pekerjaannya, tidak_tepat, waktu]   \n",
              "\n",
              "                                        Clean_Tokens  \\\n",
              "0  [laundry, teknologi, ditangani, tenaga, profes...   \n",
              "1                [hasilnya, sangat_bagus, memuaskan]   \n",
              "2                     [hasil, laundry, bagus, wangi]   \n",
              "3                   [kurang_bersih, kadang_nyucinya]   \n",
              "4                        [pekerjaannya, tidak_tepat]   \n",
              "\n",
              "                                          clean_text  \n",
              "0  laundry teknologi ditangani tenaga profesional...  \n",
              "1                    hasilnya sangat_bagus memuaskan  \n",
              "2                          hasil laundry bagus wangi  \n",
              "3                      kurang_bersih kadang_nyucinya  \n",
              "4                           pekerjaannya tidak_tepat  "
            ],
            "text/html": [
              "\n",
              "  <div id=\"df-2acb3739-a694-4cd1-8529-5058ba14cfdb\">\n",
              "    <div class=\"colab-df-container\">\n",
              "      <div>\n",
              "<style scoped>\n",
              "    .dataframe tbody tr th:only-of-type {\n",
              "        vertical-align: middle;\n",
              "    }\n",
              "\n",
              "    .dataframe tbody tr th {\n",
              "        vertical-align: top;\n",
              "    }\n",
              "\n",
              "    .dataframe thead th {\n",
              "        text-align: right;\n",
              "    }\n",
              "</style>\n",
              "<table border=\"1\" class=\"dataframe\">\n",
              "  <thead>\n",
              "    <tr style=\"text-align: right;\">\n",
              "      <th></th>\n",
              "      <th>text</th>\n",
              "      <th>target</th>\n",
              "      <th>Tokens</th>\n",
              "      <th>Combined_Tokens</th>\n",
              "      <th>Clean_Tokens</th>\n",
              "      <th>clean_text</th>\n",
              "    </tr>\n",
              "  </thead>\n",
              "  <tbody>\n",
              "    <tr>\n",
              "      <th>0</th>\n",
              "      <td>tempat laundry dengan teknologi tinggi dan dit...</td>\n",
              "      <td>1</td>\n",
              "      <td>[tempat, laundry, dengan, teknologi, tinggi, d...</td>\n",
              "      <td>[tempat, laundry, dengan, teknologi, tinggi, d...</td>\n",
              "      <td>[laundry, teknologi, ditangani, tenaga, profes...</td>\n",
              "      <td>laundry teknologi ditangani tenaga profesional...</td>\n",
              "    </tr>\n",
              "    <tr>\n",
              "      <th>1</th>\n",
              "      <td>hasilnya sangat bagus dan memuaskan</td>\n",
              "      <td>1</td>\n",
              "      <td>[hasilnya, sangat, bagus, dan, memuaskan]</td>\n",
              "      <td>[hasilnya, sangat_bagus, dan, memuaskan]</td>\n",
              "      <td>[hasilnya, sangat_bagus, memuaskan]</td>\n",
              "      <td>hasilnya sangat_bagus memuaskan</td>\n",
              "    </tr>\n",
              "    <tr>\n",
              "      <th>2</th>\n",
              "      <td>hasil laundry bagus dan wangi</td>\n",
              "      <td>1</td>\n",
              "      <td>[hasil, laundry, bagus, dan, wangi]</td>\n",
              "      <td>[hasil, laundry, bagus, dan, wangi]</td>\n",
              "      <td>[hasil, laundry, bagus, wangi]</td>\n",
              "      <td>hasil laundry bagus wangi</td>\n",
              "    </tr>\n",
              "    <tr>\n",
              "      <th>3</th>\n",
              "      <td>kurang bersih kadang nyucinya</td>\n",
              "      <td>0</td>\n",
              "      <td>[kurang, bersih, kadang, nyucinya]</td>\n",
              "      <td>[kurang_bersih, kadang_nyucinya]</td>\n",
              "      <td>[kurang_bersih, kadang_nyucinya]</td>\n",
              "      <td>kurang_bersih kadang_nyucinya</td>\n",
              "    </tr>\n",
              "    <tr>\n",
              "      <th>4</th>\n",
              "      <td>pekerjaannya tidak tepat waktu</td>\n",
              "      <td>0</td>\n",
              "      <td>[pekerjaannya, tidak, tepat, waktu]</td>\n",
              "      <td>[pekerjaannya, tidak_tepat, waktu]</td>\n",
              "      <td>[pekerjaannya, tidak_tepat]</td>\n",
              "      <td>pekerjaannya tidak_tepat</td>\n",
              "    </tr>\n",
              "  </tbody>\n",
              "</table>\n",
              "</div>\n",
              "      <button class=\"colab-df-convert\" onclick=\"convertToInteractive('df-2acb3739-a694-4cd1-8529-5058ba14cfdb')\"\n",
              "              title=\"Convert this dataframe to an interactive table.\"\n",
              "              style=\"display:none;\">\n",
              "        \n",
              "  <svg xmlns=\"http://www.w3.org/2000/svg\" height=\"24px\"viewBox=\"0 0 24 24\"\n",
              "       width=\"24px\">\n",
              "    <path d=\"M0 0h24v24H0V0z\" fill=\"none\"/>\n",
              "    <path d=\"M18.56 5.44l.94 2.06.94-2.06 2.06-.94-2.06-.94-.94-2.06-.94 2.06-2.06.94zm-11 1L8.5 8.5l.94-2.06 2.06-.94-2.06-.94L8.5 2.5l-.94 2.06-2.06.94zm10 10l.94 2.06.94-2.06 2.06-.94-2.06-.94-.94-2.06-.94 2.06-2.06.94z\"/><path d=\"M17.41 7.96l-1.37-1.37c-.4-.4-.92-.59-1.43-.59-.52 0-1.04.2-1.43.59L10.3 9.45l-7.72 7.72c-.78.78-.78 2.05 0 2.83L4 21.41c.39.39.9.59 1.41.59.51 0 1.02-.2 1.41-.59l7.78-7.78 2.81-2.81c.8-.78.8-2.07 0-2.86zM5.41 20L4 18.59l7.72-7.72 1.47 1.35L5.41 20z\"/>\n",
              "  </svg>\n",
              "      </button>\n",
              "      \n",
              "  <style>\n",
              "    .colab-df-container {\n",
              "      display:flex;\n",
              "      flex-wrap:wrap;\n",
              "      gap: 12px;\n",
              "    }\n",
              "\n",
              "    .colab-df-convert {\n",
              "      background-color: #E8F0FE;\n",
              "      border: none;\n",
              "      border-radius: 50%;\n",
              "      cursor: pointer;\n",
              "      display: none;\n",
              "      fill: #1967D2;\n",
              "      height: 32px;\n",
              "      padding: 0 0 0 0;\n",
              "      width: 32px;\n",
              "    }\n",
              "\n",
              "    .colab-df-convert:hover {\n",
              "      background-color: #E2EBFA;\n",
              "      box-shadow: 0px 1px 2px rgba(60, 64, 67, 0.3), 0px 1px 3px 1px rgba(60, 64, 67, 0.15);\n",
              "      fill: #174EA6;\n",
              "    }\n",
              "\n",
              "    [theme=dark] .colab-df-convert {\n",
              "      background-color: #3B4455;\n",
              "      fill: #D2E3FC;\n",
              "    }\n",
              "\n",
              "    [theme=dark] .colab-df-convert:hover {\n",
              "      background-color: #434B5C;\n",
              "      box-shadow: 0px 1px 3px 1px rgba(0, 0, 0, 0.15);\n",
              "      filter: drop-shadow(0px 1px 2px rgba(0, 0, 0, 0.3));\n",
              "      fill: #FFFFFF;\n",
              "    }\n",
              "  </style>\n",
              "\n",
              "      <script>\n",
              "        const buttonEl =\n",
              "          document.querySelector('#df-2acb3739-a694-4cd1-8529-5058ba14cfdb button.colab-df-convert');\n",
              "        buttonEl.style.display =\n",
              "          google.colab.kernel.accessAllowed ? 'block' : 'none';\n",
              "\n",
              "        async function convertToInteractive(key) {\n",
              "          const element = document.querySelector('#df-2acb3739-a694-4cd1-8529-5058ba14cfdb');\n",
              "          const dataTable =\n",
              "            await google.colab.kernel.invokeFunction('convertToInteractive',\n",
              "                                                     [key], {});\n",
              "          if (!dataTable) return;\n",
              "\n",
              "          const docLinkHtml = 'Like what you see? Visit the ' +\n",
              "            '<a target=\"_blank\" href=https://colab.research.google.com/notebooks/data_table.ipynb>data table notebook</a>'\n",
              "            + ' to learn more about interactive tables.';\n",
              "          element.innerHTML = '';\n",
              "          dataTable['output_type'] = 'display_data';\n",
              "          await google.colab.output.renderOutput(dataTable, element);\n",
              "          const docLink = document.createElement('div');\n",
              "          docLink.innerHTML = docLinkHtml;\n",
              "          element.appendChild(docLink);\n",
              "        }\n",
              "      </script>\n",
              "    </div>\n",
              "  </div>\n",
              "  "
            ]
          },
          "metadata": {},
          "execution_count": 20
        }
      ],
      "source": [
        "df.head()"
      ]
    },
    {
      "cell_type": "code",
      "execution_count": null,
      "id": "2027bd4b",
      "metadata": {
        "colab": {
          "base_uri": "https://localhost:8080/",
          "height": 337
        },
        "id": "2027bd4b",
        "outputId": "2bb5b828-9a70-4753-ce28-bf94d7cc7a2a"
      },
      "outputs": [
        {
          "output_type": "execute_result",
          "data": {
            "text/plain": [
              "                                                    text  target  \\\n",
              "10395  pakaian saya selalu kuat dan tahan lama dengan...       1   \n",
              "10396  laundry ini memiliki tim yang terlatih dan ber...       1   \n",
              "10397  mereka memberikan layanan perawatan noda yang ...       1   \n",
              "10398  layanan pengeringan dilakukan dengan hatihati ...       1   \n",
              "10399  saya merasa sangat nyaman menggunakan jasa lau...       1   \n",
              "\n",
              "                                                  Tokens  \\\n",
              "10395  [pakaian, saya, selalu, kuat, dan, tahan, lama...   \n",
              "10396  [laundry, ini, memiliki, tim, yang, terlatih, ...   \n",
              "10397  [mereka, memberikan, layanan, perawatan, noda,...   \n",
              "10398  [layanan, pengeringan, dilakukan, dengan, hati...   \n",
              "10399  [saya, merasa, sangat, nyaman, menggunakan, ja...   \n",
              "\n",
              "                                         Combined_Tokens  \\\n",
              "10395  [pakaian, saya, selalu, kuat, dan, tahan, lama...   \n",
              "10396  [laundry, ini, memiliki, tim, yang, terlatih, ...   \n",
              "10397  [mereka, memberikan, layanan, perawatan, noda,...   \n",
              "10398  [layanan, pengeringan, dilakukan, dengan, hati...   \n",
              "10399  [saya, merasa, sangat_nyaman, menggunakan, jas...   \n",
              "\n",
              "                                            Clean_Tokens  \\\n",
              "10395       [pakaian, kuat, tahan, perlindungan, ekstra]   \n",
              "10396  [laundry, memiliki, tim, terlatih, berpengalam...   \n",
              "10397  [layanan, perawatan, noda, efektif, menghilang...   \n",
              "10398  [layanan, pengeringan, hatihati, menjaga, kele...   \n",
              "10399   [sangat_nyaman, jasa, laundry, hasil, memuaskan]   \n",
              "\n",
              "                                              clean_text  \n",
              "10395             pakaian kuat tahan perlindungan ekstra  \n",
              "10396  laundry memiliki tim terlatih berpengalaman pe...  \n",
              "10397  layanan perawatan noda efektif menghilangkan n...  \n",
              "10398  layanan pengeringan hatihati menjaga kelembuta...  \n",
              "10399         sangat_nyaman jasa laundry hasil memuaskan  "
            ],
            "text/html": [
              "\n",
              "  <div id=\"df-eb3a2f04-c932-417c-9ec4-52190b7a49f7\">\n",
              "    <div class=\"colab-df-container\">\n",
              "      <div>\n",
              "<style scoped>\n",
              "    .dataframe tbody tr th:only-of-type {\n",
              "        vertical-align: middle;\n",
              "    }\n",
              "\n",
              "    .dataframe tbody tr th {\n",
              "        vertical-align: top;\n",
              "    }\n",
              "\n",
              "    .dataframe thead th {\n",
              "        text-align: right;\n",
              "    }\n",
              "</style>\n",
              "<table border=\"1\" class=\"dataframe\">\n",
              "  <thead>\n",
              "    <tr style=\"text-align: right;\">\n",
              "      <th></th>\n",
              "      <th>text</th>\n",
              "      <th>target</th>\n",
              "      <th>Tokens</th>\n",
              "      <th>Combined_Tokens</th>\n",
              "      <th>Clean_Tokens</th>\n",
              "      <th>clean_text</th>\n",
              "    </tr>\n",
              "  </thead>\n",
              "  <tbody>\n",
              "    <tr>\n",
              "      <th>10395</th>\n",
              "      <td>pakaian saya selalu kuat dan tahan lama dengan...</td>\n",
              "      <td>1</td>\n",
              "      <td>[pakaian, saya, selalu, kuat, dan, tahan, lama...</td>\n",
              "      <td>[pakaian, saya, selalu, kuat, dan, tahan, lama...</td>\n",
              "      <td>[pakaian, kuat, tahan, perlindungan, ekstra]</td>\n",
              "      <td>pakaian kuat tahan perlindungan ekstra</td>\n",
              "    </tr>\n",
              "    <tr>\n",
              "      <th>10396</th>\n",
              "      <td>laundry ini memiliki tim yang terlatih dan ber...</td>\n",
              "      <td>1</td>\n",
              "      <td>[laundry, ini, memiliki, tim, yang, terlatih, ...</td>\n",
              "      <td>[laundry, ini, memiliki, tim, yang, terlatih, ...</td>\n",
              "      <td>[laundry, memiliki, tim, terlatih, berpengalam...</td>\n",
              "      <td>laundry memiliki tim terlatih berpengalaman pe...</td>\n",
              "    </tr>\n",
              "    <tr>\n",
              "      <th>10397</th>\n",
              "      <td>mereka memberikan layanan perawatan noda yang ...</td>\n",
              "      <td>1</td>\n",
              "      <td>[mereka, memberikan, layanan, perawatan, noda,...</td>\n",
              "      <td>[mereka, memberikan, layanan, perawatan, noda,...</td>\n",
              "      <td>[layanan, perawatan, noda, efektif, menghilang...</td>\n",
              "      <td>layanan perawatan noda efektif menghilangkan n...</td>\n",
              "    </tr>\n",
              "    <tr>\n",
              "      <th>10398</th>\n",
              "      <td>layanan pengeringan dilakukan dengan hatihati ...</td>\n",
              "      <td>1</td>\n",
              "      <td>[layanan, pengeringan, dilakukan, dengan, hati...</td>\n",
              "      <td>[layanan, pengeringan, dilakukan, dengan, hati...</td>\n",
              "      <td>[layanan, pengeringan, hatihati, menjaga, kele...</td>\n",
              "      <td>layanan pengeringan hatihati menjaga kelembuta...</td>\n",
              "    </tr>\n",
              "    <tr>\n",
              "      <th>10399</th>\n",
              "      <td>saya merasa sangat nyaman menggunakan jasa lau...</td>\n",
              "      <td>1</td>\n",
              "      <td>[saya, merasa, sangat, nyaman, menggunakan, ja...</td>\n",
              "      <td>[saya, merasa, sangat_nyaman, menggunakan, jas...</td>\n",
              "      <td>[sangat_nyaman, jasa, laundry, hasil, memuaskan]</td>\n",
              "      <td>sangat_nyaman jasa laundry hasil memuaskan</td>\n",
              "    </tr>\n",
              "  </tbody>\n",
              "</table>\n",
              "</div>\n",
              "      <button class=\"colab-df-convert\" onclick=\"convertToInteractive('df-eb3a2f04-c932-417c-9ec4-52190b7a49f7')\"\n",
              "              title=\"Convert this dataframe to an interactive table.\"\n",
              "              style=\"display:none;\">\n",
              "        \n",
              "  <svg xmlns=\"http://www.w3.org/2000/svg\" height=\"24px\"viewBox=\"0 0 24 24\"\n",
              "       width=\"24px\">\n",
              "    <path d=\"M0 0h24v24H0V0z\" fill=\"none\"/>\n",
              "    <path d=\"M18.56 5.44l.94 2.06.94-2.06 2.06-.94-2.06-.94-.94-2.06-.94 2.06-2.06.94zm-11 1L8.5 8.5l.94-2.06 2.06-.94-2.06-.94L8.5 2.5l-.94 2.06-2.06.94zm10 10l.94 2.06.94-2.06 2.06-.94-2.06-.94-.94-2.06-.94 2.06-2.06.94z\"/><path d=\"M17.41 7.96l-1.37-1.37c-.4-.4-.92-.59-1.43-.59-.52 0-1.04.2-1.43.59L10.3 9.45l-7.72 7.72c-.78.78-.78 2.05 0 2.83L4 21.41c.39.39.9.59 1.41.59.51 0 1.02-.2 1.41-.59l7.78-7.78 2.81-2.81c.8-.78.8-2.07 0-2.86zM5.41 20L4 18.59l7.72-7.72 1.47 1.35L5.41 20z\"/>\n",
              "  </svg>\n",
              "      </button>\n",
              "      \n",
              "  <style>\n",
              "    .colab-df-container {\n",
              "      display:flex;\n",
              "      flex-wrap:wrap;\n",
              "      gap: 12px;\n",
              "    }\n",
              "\n",
              "    .colab-df-convert {\n",
              "      background-color: #E8F0FE;\n",
              "      border: none;\n",
              "      border-radius: 50%;\n",
              "      cursor: pointer;\n",
              "      display: none;\n",
              "      fill: #1967D2;\n",
              "      height: 32px;\n",
              "      padding: 0 0 0 0;\n",
              "      width: 32px;\n",
              "    }\n",
              "\n",
              "    .colab-df-convert:hover {\n",
              "      background-color: #E2EBFA;\n",
              "      box-shadow: 0px 1px 2px rgba(60, 64, 67, 0.3), 0px 1px 3px 1px rgba(60, 64, 67, 0.15);\n",
              "      fill: #174EA6;\n",
              "    }\n",
              "\n",
              "    [theme=dark] .colab-df-convert {\n",
              "      background-color: #3B4455;\n",
              "      fill: #D2E3FC;\n",
              "    }\n",
              "\n",
              "    [theme=dark] .colab-df-convert:hover {\n",
              "      background-color: #434B5C;\n",
              "      box-shadow: 0px 1px 3px 1px rgba(0, 0, 0, 0.15);\n",
              "      filter: drop-shadow(0px 1px 2px rgba(0, 0, 0, 0.3));\n",
              "      fill: #FFFFFF;\n",
              "    }\n",
              "  </style>\n",
              "\n",
              "      <script>\n",
              "        const buttonEl =\n",
              "          document.querySelector('#df-eb3a2f04-c932-417c-9ec4-52190b7a49f7 button.colab-df-convert');\n",
              "        buttonEl.style.display =\n",
              "          google.colab.kernel.accessAllowed ? 'block' : 'none';\n",
              "\n",
              "        async function convertToInteractive(key) {\n",
              "          const element = document.querySelector('#df-eb3a2f04-c932-417c-9ec4-52190b7a49f7');\n",
              "          const dataTable =\n",
              "            await google.colab.kernel.invokeFunction('convertToInteractive',\n",
              "                                                     [key], {});\n",
              "          if (!dataTable) return;\n",
              "\n",
              "          const docLinkHtml = 'Like what you see? Visit the ' +\n",
              "            '<a target=\"_blank\" href=https://colab.research.google.com/notebooks/data_table.ipynb>data table notebook</a>'\n",
              "            + ' to learn more about interactive tables.';\n",
              "          element.innerHTML = '';\n",
              "          dataTable['output_type'] = 'display_data';\n",
              "          await google.colab.output.renderOutput(dataTable, element);\n",
              "          const docLink = document.createElement('div');\n",
              "          docLink.innerHTML = docLinkHtml;\n",
              "          element.appendChild(docLink);\n",
              "        }\n",
              "      </script>\n",
              "    </div>\n",
              "  </div>\n",
              "  "
            ]
          },
          "metadata": {},
          "execution_count": 21
        }
      ],
      "source": [
        "df.tail()"
      ]
    },
    {
      "cell_type": "markdown",
      "id": "40871062",
      "metadata": {
        "id": "40871062"
      },
      "source": [
        "### Splitting Dataset"
      ]
    },
    {
      "cell_type": "code",
      "execution_count": null,
      "id": "ed4622b7",
      "metadata": {
        "id": "ed4622b7"
      },
      "outputs": [],
      "source": [
        "from sklearn.model_selection import train_test_split\n",
        "\n",
        "# Memisahkan fitur dan label target\n",
        "X = df['clean_text']\n",
        "y = df['target']\n",
        "\n",
        "# Memisahkan dataset menjadi training set dan test set\n",
        "X_train, X_test, y_train, y_test = train_test_split(X, y, test_size=0.2, random_state=42, stratify=y)"
      ]
    },
    {
      "cell_type": "markdown",
      "id": "822a419b",
      "metadata": {
        "id": "822a419b"
      },
      "source": [
        "#### Mengecek apakah balance"
      ]
    },
    {
      "cell_type": "code",
      "execution_count": null,
      "id": "457aed01",
      "metadata": {
        "colab": {
          "base_uri": "https://localhost:8080/",
          "height": 443
        },
        "id": "457aed01",
        "outputId": "a56d5492-7770-48a1-916a-7ea0c4be55b2"
      },
      "outputs": [
        {
          "output_type": "execute_result",
          "data": {
            "text/plain": [
              "<Axes: >"
            ]
          },
          "metadata": {},
          "execution_count": 18
        },
        {
          "output_type": "display_data",
          "data": {
            "text/plain": [
              "<Figure size 640x480 with 1 Axes>"
            ],
            "image/png": "[encoded data removed]"
          },
          "metadata": {}
        }
      ],
      "source": [
        "y_train.value_counts().plot(kind=\"bar\")"
      ]
    },
    {
      "cell_type": "code",
      "execution_count": null,
      "id": "c027722b",
      "metadata": {
        "colab": {
          "base_uri": "https://localhost:8080/",
          "height": 443
        },
        "id": "c027722b",
        "outputId": "15f3fe3e-af79-4b79-bf1f-6e87ab21f6a6"
      },
      "outputs": [
        {
          "output_type": "execute_result",
          "data": {
            "text/plain": [
              "<Axes: >"
            ]
          },
          "metadata": {},
          "execution_count": 19
        },
        {
          "output_type": "display_data",
          "data": {
            "text/plain": [
              "<Figure size 640x480 with 1 Axes>"
            ],
            "image/png": "[encoded data removed]"
          },
          "metadata": {}
        }
      ],
      "source": [
        "y_test.value_counts().plot(kind=\"bar\")"
      ]
    },
    {
      "cell_type": "markdown",
      "id": "5a8d5878",
      "metadata": {
        "id": "5a8d5878"
      },
      "source": [
        "### Analisis & Membangun Model"
      ]
    },
    {
      "cell_type": "code",
      "source": [
        "aug = naw.SynonymAug(aug_src='wordnet')\n",
        "augmented_X_train = []\n",
        "for text in X_train:\n",
        "    augmented_text = aug.augment(text)\n",
        "    augmented_X_train.append(augmented_text)\n",
        "X_train = np.concatenate((X_train, np.array(augmented_X_train)), axis=0)\n",
        "y_train = np.concatenate((y_train, y_train), axis=0)\n",
        "\n",
        "\n",
        "# Vektorisasi teks\n",
        "tokenizer = Tokenizer(num_words=10000,oov_token = \"<OOV>\")  # Jumlah kata unik yang akan digunakan\n",
        "tokenizer.fit_on_texts(X_train)  # X_train adalah data teks review pada training set\n",
        "\n",
        "\n",
        "X_train = tokenizer.texts_to_sequences(X_train)\n",
        "X_test = tokenizer.texts_to_sequences(X_test)\n",
        "\n",
        "vocab_size = len(tokenizer.word_index) + 1\n",
        "\n",
        "max_length = 100  # Panjang maksimum teks review yang akan diproses\n",
        "X_train = pad_sequences(X_train, maxlen=max_length, padding='post')\n",
        "X_test = pad_sequences(X_test, maxlen=max_length, padding='post')\n",
        "\n"
      ],
      "metadata": {
        "colab": {
          "base_uri": "https://localhost:8080/"
        },
        "id": "ylucfBDw5_vp",
        "outputId": "a131132d-0d0e-4cdd-d552-f07733fc5d0d"
      },
      "id": "ylucfBDw5_vp",
      "execution_count": null,
      "outputs": [
        {
          "output_type": "stream",
          "name": "stderr",
          "text": [
            "<ipython-input-30-32fe1784f532>:6: VisibleDeprecationWarning: Creating an ndarray from ragged nested sequences (which is a list-or-tuple of lists-or-tuples-or ndarrays with different lengths or shapes) is deprecated. If you meant to do this, you must specify 'dtype=object' when creating the ndarray.\n",
            "  X_train = np.concatenate((X_train, np.array(augmented_X_train)), axis=0)\n"
          ]
        }
      ]
    },
    {
      "cell_type": "code",
      "source": [
        "# Menyimpan tokenizer\n",
        "with open('tokenlast.pkl', 'wb') as f:\n",
        "    pickle.dump(tokenizer, f)"
      ],
      "metadata": {
        "id": "-RjfZ3Tm7wbM"
      },
      "id": "-RjfZ3Tm7wbM",
      "execution_count": null,
      "outputs": []
    },
    {
      "cell_type": "code",
      "execution_count": null,
      "id": "b69369e8",
      "metadata": {
        "id": "b69369e8"
      },
      "outputs": [],
      "source": [
        "# Pembangunan model\n",
        "model = tf.keras.Sequential([\n",
        "    tf.keras.layers.Embedding(vocab_size, 16, input_length=max_length),\n",
        "    tf.keras.layers.GlobalAveragePooling1D(),\n",
        "    tf.keras.layers.Flatten(),\n",
        "    # tf.keras.layers.Dense(128, activation='relu'),\n",
        "    tf.keras.layers.Dense(64, activation='relu'),\n",
        "    tf.keras.layers.Dense(32, activation='relu'),\n",
        "    tf.keras.layers.Dropout(0.4),\n",
        "    tf.keras.layers.Dense(1, activation='sigmoid')\n",
        "])\n",
        "\n",
        "model.compile(loss='binary_crossentropy', optimizer=tf.keras.optimizers.Adam(learning_rate=0.001), metrics=['accuracy'])\n",
        "\n",
        "\n",
        "\n"
      ]
    },
    {
      "cell_type": "code",
      "source": [
        "kfold = KFold(n_splits=2)\n",
        "for train_idx, val_idx in kfold.split(X_train):\n",
        "    X_train_fold, X_val = X_train[train_idx], X_train[val_idx]\n",
        "    y_train_fold, y_val = y_train[train_idx], y_train[val_idx]\n",
        "\n",
        "    # Pelatihan model\n",
        "    epochs = 50  # Jumlah epoch (iterasi) yang akan dilakukan\n",
        "    batch_size = 32  # Ukuran batch yang digunakan saat pelatihan\n",
        "\n",
        "    history = model.fit(X_train_fold, y_train_fold, epochs=epochs, batch_size=batch_size, validation_data=(X_val, y_val))\n",
        "\n",
        "# Evaluasi model\n",
        "loss, accuracy = model.evaluate(X_test, y_test)\n",
        "print(\"Loss:\", loss)\n",
        "print(\"Accuracy:\", accuracy)"
      ],
      "metadata": {
        "colab": {
          "base_uri": "https://localhost:8080/"
        },
        "id": "lccVDN7q49sE",
        "outputId": "2be01f50-e55b-4c35-f2d1-154381d9152e"
      },
      "id": "lccVDN7q49sE",
      "execution_count": null,
      "outputs": [
        {
          "output_type": "stream",
          "name": "stdout",
          "text": [
            "Epoch 1/50\n",
            "65/65 [==============================] - 3s 19ms/step - loss: 0.6933 - accuracy: 0.5041 - val_loss: 0.6935 - val_accuracy: 0.5002\n",
            "Epoch 2/50\n",
            "65/65 [==============================] - 1s 9ms/step - loss: 0.6933 - accuracy: 0.5065 - val_loss: 0.6933 - val_accuracy: 0.4998\n",
            "Epoch 3/50\n",
            "65/65 [==============================] - 1s 9ms/step - loss: 0.6931 - accuracy: 0.4998 - val_loss: 0.6933 - val_accuracy: 0.5002\n",
            "Epoch 4/50\n",
            "65/65 [==============================] - 1s 11ms/step - loss: 0.6933 - accuracy: 0.5060 - val_loss: 0.6932 - val_accuracy: 0.5166\n",
            "Epoch 5/50\n",
            "65/65 [==============================] - 1s 9ms/step - loss: 0.6932 - accuracy: 0.4988 - val_loss: 0.6932 - val_accuracy: 0.4983\n",
            "Epoch 6/50\n",
            "65/65 [==============================] - 1s 9ms/step - loss: 0.6929 - accuracy: 0.5118 - val_loss: 0.6931 - val_accuracy: 0.4974\n",
            "Epoch 7/50\n",
            "65/65 [==============================] - 0s 7ms/step - loss: 0.6933 - accuracy: 0.4820 - val_loss: 0.6930 - val_accuracy: 0.4969\n",
            "Epoch 8/50\n",
            "65/65 [==============================] - 0s 6ms/step - loss: 0.6924 - accuracy: 0.5156 - val_loss: 0.6937 - val_accuracy: 0.5002\n",
            "Epoch 9/50\n",
            "65/65 [==============================] - 0s 7ms/step - loss: 0.6930 - accuracy: 0.4988 - val_loss: 0.6926 - val_accuracy: 0.4988\n",
            "Epoch 10/50\n",
            "65/65 [==============================] - 0s 7ms/step - loss: 0.6922 - accuracy: 0.5310 - val_loss: 0.6919 - val_accuracy: 0.5459\n",
            "Epoch 11/50\n",
            "65/65 [==============================] - 0s 6ms/step - loss: 0.6906 - accuracy: 0.5349 - val_loss: 0.6909 - val_accuracy: 0.5017\n",
            "Epoch 12/50\n",
            "65/65 [==============================] - 0s 6ms/step - loss: 0.6894 - accuracy: 0.5378 - val_loss: 0.6872 - val_accuracy: 0.6306\n",
            "Epoch 13/50\n",
            "65/65 [==============================] - 0s 6ms/step - loss: 0.6793 - accuracy: 0.6469 - val_loss: 0.6818 - val_accuracy: 0.5296\n",
            "Epoch 14/50\n",
            "65/65 [==============================] - 1s 9ms/step - loss: 0.6377 - accuracy: 0.7605 - val_loss: 0.6505 - val_accuracy: 0.5791\n",
            "Epoch 15/50\n",
            "65/65 [==============================] - 0s 6ms/step - loss: 0.5177 - accuracy: 0.8778 - val_loss: 0.5817 - val_accuracy: 0.7143\n",
            "Epoch 16/50\n",
            "65/65 [==============================] - 0s 7ms/step - loss: 0.3292 - accuracy: 0.9663 - val_loss: 0.6285 - val_accuracy: 0.6873\n",
            "Epoch 17/50\n",
            "65/65 [==============================] - 0s 6ms/step - loss: 0.1734 - accuracy: 0.9962 - val_loss: 0.7936 - val_accuracy: 0.6157\n",
            "Epoch 18/50\n",
            "65/65 [==============================] - 0s 6ms/step - loss: 0.0882 - accuracy: 0.9971 - val_loss: 0.9005 - val_accuracy: 0.6417\n",
            "Epoch 19/50\n",
            "65/65 [==============================] - 0s 6ms/step - loss: 0.0501 - accuracy: 0.9981 - val_loss: 1.0083 - val_accuracy: 0.6407\n",
            "Epoch 20/50\n",
            "65/65 [==============================] - 0s 6ms/step - loss: 0.0383 - accuracy: 0.9981 - val_loss: 1.1531 - val_accuracy: 0.6065\n",
            "Epoch 21/50\n",
            "65/65 [==============================] - 0s 6ms/step - loss: 0.0254 - accuracy: 0.9986 - val_loss: 1.1616 - val_accuracy: 0.6691\n",
            "Epoch 22/50\n",
            "65/65 [==============================] - 0s 7ms/step - loss: 0.0200 - accuracy: 0.9981 - val_loss: 1.2730 - val_accuracy: 0.6359\n",
            "Epoch 23/50\n",
            "65/65 [==============================] - 0s 7ms/step - loss: 0.0153 - accuracy: 0.9986 - val_loss: 1.4898 - val_accuracy: 0.5849\n",
            "Epoch 24/50\n",
            "65/65 [==============================] - 0s 7ms/step - loss: 0.0134 - accuracy: 0.9990 - val_loss: 1.3526 - val_accuracy: 0.6686\n",
            "Epoch 25/50\n",
            "65/65 [==============================] - 0s 6ms/step - loss: 0.0150 - accuracy: 0.9990 - val_loss: 1.3973 - val_accuracy: 0.6643\n",
            "Epoch 26/50\n",
            "65/65 [==============================] - 0s 6ms/step - loss: 0.0080 - accuracy: 0.9995 - val_loss: 1.4322 - val_accuracy: 0.6772\n",
            "Epoch 27/50\n",
            "65/65 [==============================] - 0s 6ms/step - loss: 0.0122 - accuracy: 0.9986 - val_loss: 1.5781 - val_accuracy: 0.6032\n",
            "Epoch 28/50\n",
            "65/65 [==============================] - 0s 7ms/step - loss: 0.0088 - accuracy: 0.9986 - val_loss: 1.4843 - val_accuracy: 0.6873\n",
            "Epoch 29/50\n",
            "65/65 [==============================] - 0s 6ms/step - loss: 0.0123 - accuracy: 0.9981 - val_loss: 2.0414 - val_accuracy: 0.5830\n",
            "Epoch 30/50\n",
            "65/65 [==============================] - 0s 8ms/step - loss: 0.0082 - accuracy: 0.9990 - val_loss: 1.7391 - val_accuracy: 0.5921\n",
            "Epoch 31/50\n",
            "65/65 [==============================] - 1s 9ms/step - loss: 0.0072 - accuracy: 0.9990 - val_loss: 2.1995 - val_accuracy: 0.5825\n",
            "Epoch 32/50\n",
            "65/65 [==============================] - 1s 9ms/step - loss: 0.0076 - accuracy: 0.9995 - val_loss: 2.4978 - val_accuracy: 0.5796\n",
            "Epoch 33/50\n",
            "65/65 [==============================] - 1s 9ms/step - loss: 0.0075 - accuracy: 0.9990 - val_loss: 1.9435 - val_accuracy: 0.5863\n",
            "Epoch 34/50\n",
            "65/65 [==============================] - 1s 9ms/step - loss: 0.0095 - accuracy: 0.9986 - val_loss: 1.6322 - val_accuracy: 0.7071\n",
            "Epoch 35/50\n",
            "65/65 [==============================] - 1s 9ms/step - loss: 0.0139 - accuracy: 0.9966 - val_loss: 1.7638 - val_accuracy: 0.6152\n",
            "Epoch 36/50\n",
            "65/65 [==============================] - 1s 9ms/step - loss: 0.0063 - accuracy: 0.9995 - val_loss: 2.2654 - val_accuracy: 0.5835\n",
            "Epoch 37/50\n",
            "65/65 [==============================] - 0s 7ms/step - loss: 0.0043 - accuracy: 0.9995 - val_loss: 1.9490 - val_accuracy: 0.5926\n",
            "Epoch 38/50\n",
            "65/65 [==============================] - 0s 6ms/step - loss: 0.0057 - accuracy: 0.9990 - val_loss: 1.8325 - val_accuracy: 0.7172\n",
            "Epoch 39/50\n",
            "65/65 [==============================] - 0s 6ms/step - loss: 0.0057 - accuracy: 0.9990 - val_loss: 2.6081 - val_accuracy: 0.5815\n",
            "Epoch 40/50\n",
            "65/65 [==============================] - 0s 6ms/step - loss: 0.0055 - accuracy: 0.9990 - val_loss: 2.9752 - val_accuracy: 0.5786\n",
            "Epoch 41/50\n",
            "65/65 [==============================] - 0s 6ms/step - loss: 0.0069 - accuracy: 0.9990 - val_loss: 1.8042 - val_accuracy: 0.6681\n",
            "Epoch 42/50\n",
            "65/65 [==============================] - 0s 7ms/step - loss: 0.0059 - accuracy: 0.9995 - val_loss: 2.5096 - val_accuracy: 0.5839\n",
            "Epoch 43/50\n",
            "65/65 [==============================] - 0s 6ms/step - loss: 0.0056 - accuracy: 0.9986 - val_loss: 2.8266 - val_accuracy: 0.5810\n",
            "Epoch 44/50\n",
            "65/65 [==============================] - 0s 7ms/step - loss: 0.0050 - accuracy: 0.9995 - val_loss: 2.7552 - val_accuracy: 0.5820\n",
            "Epoch 45/50\n",
            "65/65 [==============================] - 0s 7ms/step - loss: 0.0039 - accuracy: 0.9990 - val_loss: 2.0733 - val_accuracy: 0.6065\n",
            "Epoch 46/50\n",
            "65/65 [==============================] - 0s 7ms/step - loss: 0.0082 - accuracy: 0.9981 - val_loss: 3.0859 - val_accuracy: 0.5796\n",
            "Epoch 47/50\n",
            "65/65 [==============================] - 0s 7ms/step - loss: 0.0067 - accuracy: 0.9986 - val_loss: 1.9483 - val_accuracy: 0.6508\n",
            "Epoch 48/50\n",
            "65/65 [==============================] - 0s 6ms/step - loss: 0.0129 - accuracy: 0.9981 - val_loss: 1.9036 - val_accuracy: 0.6946\n",
            "Epoch 49/50\n",
            "65/65 [==============================] - 0s 6ms/step - loss: 0.0076 - accuracy: 0.9995 - val_loss: 3.2361 - val_accuracy: 0.5777\n",
            "Epoch 50/50\n",
            "65/65 [==============================] - 0s 6ms/step - loss: 0.0033 - accuracy: 1.0000 - val_loss: 2.3816 - val_accuracy: 0.5868\n",
            "Epoch 1/50\n",
            "65/65 [==============================] - 12s 187ms/step - loss: 0.8622 - accuracy: 0.7734 - val_loss: 0.2712 - val_accuracy: 1.0000\n",
            "Epoch 2/50\n",
            "65/65 [==============================] - 7s 101ms/step - loss: 0.2605 - accuracy: 0.8990 - val_loss: 0.0919 - val_accuracy: 0.9976\n",
            "Epoch 3/50\n",
            "65/65 [==============================] - 4s 58ms/step - loss: 0.1881 - accuracy: 0.9365 - val_loss: 0.0552 - val_accuracy: 0.9976\n",
            "Epoch 4/50\n",
            "65/65 [==============================] - 2s 28ms/step - loss: 0.1335 - accuracy: 0.9601 - val_loss: 0.0309 - val_accuracy: 1.0000\n",
            "Epoch 5/50\n",
            "65/65 [==============================] - 2s 36ms/step - loss: 0.1060 - accuracy: 0.9687 - val_loss: 0.0297 - val_accuracy: 0.9976\n",
            "Epoch 6/50\n",
            "65/65 [==============================] - 1s 18ms/step - loss: 0.0845 - accuracy: 0.9745 - val_loss: 0.0317 - val_accuracy: 0.9990\n",
            "Epoch 7/50\n",
            "65/65 [==============================] - 2s 31ms/step - loss: 0.0761 - accuracy: 0.9774 - val_loss: 0.0144 - val_accuracy: 0.9976\n",
            "Epoch 8/50\n",
            "65/65 [==============================] - 2s 28ms/step - loss: 0.0536 - accuracy: 0.9861 - val_loss: 0.0196 - val_accuracy: 0.9976\n",
            "Epoch 9/50\n",
            "65/65 [==============================] - 1s 22ms/step - loss: 0.0466 - accuracy: 0.9894 - val_loss: 0.0059 - val_accuracy: 1.0000\n",
            "Epoch 10/50\n",
            "65/65 [==============================] - 0s 7ms/step - loss: 0.0386 - accuracy: 0.9923 - val_loss: 0.0158 - val_accuracy: 0.9976\n",
            "Epoch 11/50\n",
            "65/65 [==============================] - 0s 6ms/step - loss: 0.0403 - accuracy: 0.9933 - val_loss: 0.0056 - val_accuracy: 0.9976\n",
            "Epoch 12/50\n",
            "65/65 [==============================] - 1s 13ms/step - loss: 0.0351 - accuracy: 0.9933 - val_loss: 0.0080 - val_accuracy: 0.9976\n",
            "Epoch 13/50\n",
            "65/65 [==============================] - 1s 16ms/step - loss: 0.0371 - accuracy: 0.9937 - val_loss: 0.0059 - val_accuracy: 0.9976\n",
            "Epoch 14/50\n",
            "65/65 [==============================] - 0s 6ms/step - loss: 0.0267 - accuracy: 0.9952 - val_loss: 0.0046 - val_accuracy: 0.9976\n",
            "Epoch 15/50\n",
            "65/65 [==============================] - 1s 10ms/step - loss: 0.0249 - accuracy: 0.9947 - val_loss: 0.0032 - val_accuracy: 1.0000\n",
            "Epoch 16/50\n",
            "65/65 [==============================] - 1s 10ms/step - loss: 0.0226 - accuracy: 0.9957 - val_loss: 0.0036 - val_accuracy: 0.9976\n",
            "Epoch 17/50\n",
            "65/65 [==============================] - 1s 9ms/step - loss: 0.0266 - accuracy: 0.9947 - val_loss: 0.0038 - val_accuracy: 0.9976\n",
            "Epoch 18/50\n",
            "65/65 [==============================] - 1s 12ms/step - loss: 0.0339 - accuracy: 0.9904 - val_loss: 0.0202 - val_accuracy: 0.9962\n",
            "Epoch 19/50\n",
            "65/65 [==============================] - 0s 7ms/step - loss: 0.0305 - accuracy: 0.9933 - val_loss: 0.0034 - val_accuracy: 0.9976\n",
            "Epoch 20/50\n",
            "65/65 [==============================] - 0s 6ms/step - loss: 0.0266 - accuracy: 0.9947 - val_loss: 0.0083 - val_accuracy: 0.9976\n",
            "Epoch 21/50\n",
            "65/65 [==============================] - 0s 6ms/step - loss: 0.0172 - accuracy: 0.9957 - val_loss: 0.0032 - val_accuracy: 0.9976\n",
            "Epoch 22/50\n",
            "65/65 [==============================] - 1s 9ms/step - loss: 0.0194 - accuracy: 0.9976 - val_loss: 0.0042 - val_accuracy: 0.9990\n",
            "Epoch 23/50\n",
            "65/65 [==============================] - 0s 6ms/step - loss: 0.0227 - accuracy: 0.9976 - val_loss: 0.0060 - val_accuracy: 0.9976\n",
            "Epoch 24/50\n",
            "65/65 [==============================] - 0s 7ms/step - loss: 0.0228 - accuracy: 0.9962 - val_loss: 0.0025 - val_accuracy: 1.0000\n",
            "Epoch 25/50\n",
            "65/65 [==============================] - 1s 9ms/step - loss: 0.0178 - accuracy: 0.9986 - val_loss: 0.0025 - val_accuracy: 1.0000\n",
            "Epoch 26/50\n",
            "65/65 [==============================] - 1s 19ms/step - loss: 0.0227 - accuracy: 0.9957 - val_loss: 0.0021 - val_accuracy: 1.0000\n",
            "Epoch 27/50\n",
            "65/65 [==============================] - 1s 11ms/step - loss: 0.0166 - accuracy: 0.9981 - val_loss: 0.0019 - val_accuracy: 1.0000\n",
            "Epoch 28/50\n",
            "65/65 [==============================] - 1s 12ms/step - loss: 0.0177 - accuracy: 0.9966 - val_loss: 0.0029 - val_accuracy: 1.0000\n",
            "Epoch 29/50\n",
            "65/65 [==============================] - 1s 12ms/step - loss: 0.0246 - accuracy: 0.9947 - val_loss: 0.0022 - val_accuracy: 1.0000\n",
            "Epoch 30/50\n",
            "65/65 [==============================] - 0s 7ms/step - loss: 0.0256 - accuracy: 0.9947 - val_loss: 0.0034 - val_accuracy: 0.9976\n",
            "Epoch 31/50\n",
            "65/65 [==============================] - 1s 13ms/step - loss: 0.0144 - accuracy: 0.9981 - val_loss: 0.0056 - val_accuracy: 0.9990\n",
            "Epoch 32/50\n",
            "65/65 [==============================] - 1s 10ms/step - loss: 0.0201 - accuracy: 0.9962 - val_loss: 0.0089 - val_accuracy: 0.9990\n",
            "Epoch 33/50\n",
            "65/65 [==============================] - 0s 7ms/step - loss: 0.0177 - accuracy: 0.9957 - val_loss: 0.0025 - val_accuracy: 1.0000\n",
            "Epoch 34/50\n",
            "65/65 [==============================] - 0s 7ms/step - loss: 0.0135 - accuracy: 0.9986 - val_loss: 0.0023 - val_accuracy: 1.0000\n",
            "Epoch 35/50\n",
            "65/65 [==============================] - 0s 6ms/step - loss: 0.0188 - accuracy: 0.9971 - val_loss: 0.0025 - val_accuracy: 1.0000\n",
            "Epoch 36/50\n",
            "65/65 [==============================] - 0s 6ms/step - loss: 0.0113 - accuracy: 0.9986 - val_loss: 0.0018 - val_accuracy: 1.0000\n",
            "Epoch 37/50\n",
            "65/65 [==============================] - 1s 12ms/step - loss: 0.0167 - accuracy: 0.9971 - val_loss: 0.0050 - val_accuracy: 0.9976\n",
            "Epoch 38/50\n",
            "65/65 [==============================] - 1s 10ms/step - loss: 0.0207 - accuracy: 0.9962 - val_loss: 0.0024 - val_accuracy: 1.0000\n",
            "Epoch 39/50\n",
            "65/65 [==============================] - 1s 12ms/step - loss: 0.0209 - accuracy: 0.9962 - val_loss: 0.0025 - val_accuracy: 1.0000\n",
            "Epoch 40/50\n",
            "65/65 [==============================] - 0s 6ms/step - loss: 0.0186 - accuracy: 0.9966 - val_loss: 0.0023 - val_accuracy: 1.0000\n",
            "Epoch 41/50\n",
            "65/65 [==============================] - 1s 9ms/step - loss: 0.0190 - accuracy: 0.9962 - val_loss: 0.0029 - val_accuracy: 1.0000\n",
            "Epoch 42/50\n",
            "65/65 [==============================] - 0s 7ms/step - loss: 0.0128 - accuracy: 0.9986 - val_loss: 0.0021 - val_accuracy: 1.0000\n",
            "Epoch 43/50\n",
            "65/65 [==============================] - 1s 9ms/step - loss: 0.0135 - accuracy: 0.9990 - val_loss: 0.0044 - val_accuracy: 1.0000\n",
            "Epoch 44/50\n",
            "65/65 [==============================] - 0s 6ms/step - loss: 0.0156 - accuracy: 0.9976 - val_loss: 0.0056 - val_accuracy: 1.0000\n",
            "Epoch 45/50\n",
            "65/65 [==============================] - 0s 6ms/step - loss: 0.0212 - accuracy: 0.9962 - val_loss: 0.0046 - val_accuracy: 1.0000\n",
            "Epoch 46/50\n",
            "65/65 [==============================] - 1s 9ms/step - loss: 0.0200 - accuracy: 0.9957 - val_loss: 0.1234 - val_accuracy: 0.9952\n",
            "Epoch 47/50\n",
            "65/65 [==============================] - 0s 7ms/step - loss: 0.0596 - accuracy: 0.9856 - val_loss: 0.0568 - val_accuracy: 0.9986\n",
            "Epoch 48/50\n",
            "65/65 [==============================] - 1s 9ms/step - loss: 0.0151 - accuracy: 0.9971 - val_loss: 0.0038 - val_accuracy: 1.0000\n",
            "Epoch 49/50\n",
            "65/65 [==============================] - 1s 11ms/step - loss: 0.0150 - accuracy: 0.9981 - val_loss: 0.0082 - val_accuracy: 1.0000\n",
            "Epoch 50/50\n",
            "65/65 [==============================] - 1s 11ms/step - loss: 0.0132 - accuracy: 0.9981 - val_loss: 0.0041 - val_accuracy: 1.0000\n",
            "17/17 [==============================] - 1s 5ms/step - loss: 0.2518 - accuracy: 0.9308\n",
            "Loss: 0.2517637610435486\n",
            "Accuracy: 0.9307692050933838\n"
          ]
        }
      ]
    },
    {
      "cell_type": "code",
      "execution_count": null,
      "id": "86b9ebbf",
      "metadata": {
        "colab": {
          "base_uri": "https://localhost:8080/",
          "height": 927
        },
        "id": "86b9ebbf",
        "outputId": "49df4ba6-d1d4-4469-b2ca-85aa15cf4fd0"
      },
      "outputs": [
        {
          "output_type": "display_data",
          "data": {
            "text/plain": [
              "<Figure size 640x480 with 1 Axes>"
            ],
            "image/png": "[encoded data removed]"
          },
          "metadata": {}
        },
        {
          "output_type": "display_data",
          "data": {
            "text/plain": [
              "<Figure size 640x480 with 1 Axes>"
            ],
            "image/png": "[encoded data removed]"
          },
          "metadata": {}
        }
      ],
      "source": [
        "# Memplot akurasi dan loss pada setiap epoch\n",
        "train_accuracy = history.history['accuracy']\n",
        "val_accuracy = history.history['val_accuracy']\n",
        "train_loss = history.history['loss']\n",
        "val_loss = history.history['val_loss']\n",
        "\n",
        "epochs = range(1, len(train_accuracy) + 1)\n",
        "\n",
        "# Plot akurasi\n",
        "plt.plot(epochs, train_accuracy, 'g', label='Training Accuracy')\n",
        "plt.plot(epochs, val_accuracy, 'b', label='Testing Accuracy')\n",
        "plt.title('Training and Testing Accuracy')\n",
        "plt.xlabel('Epochs')\n",
        "plt.ylabel('Accuracy')\n",
        "plt.legend()\n",
        "plt.show()\n",
        "\n",
        "# Plot loss\n",
        "plt.plot(epochs, train_loss, 'g', label='Training Loss')\n",
        "plt.plot(epochs, val_loss, 'b', label='Testing Loss')\n",
        "plt.title('Training and Testing Loss')\n",
        "plt.xlabel('Epochs')\n",
        "plt.ylabel('Loss')\n",
        "plt.legend()\n",
        "plt.show()"
      ]
    },
    {
      "cell_type": "markdown",
      "source": [
        "### Model Testing"
      ],
      "metadata": {
        "id": "ltGLtgcCQ7D0"
      },
      "id": "ltGLtgcCQ7D0"
    },
    {
      "cell_type": "code",
      "source": [
        "sequence = tokenizer.texts_to_sequences(['hasil laundry tidak memuaskan'])\n",
        "print(sequence)\n",
        "sequence = pad_sequences(sequence, maxlen=100)\n",
        "prediction = model.predict(sequence)\n",
        "print(prediction)"
      ],
      "metadata": {
        "colab": {
          "base_uri": "https://localhost:8080/"
        },
        "id": "0FdRnp6Y4zZ4",
        "outputId": "da61e37d-0a94-4ac3-8042-e587c5986308"
      },
      "id": "0FdRnp6Y4zZ4",
      "execution_count": null,
      "outputs": [
        {
          "output_type": "stream",
          "name": "stdout",
          "text": [
            "[[2376, 56, 777, 863, 450, 2344, 839, 56, 863, 260, 20, 15, 279, 1768, 73, 449, 1208]]\n",
            "1/1 [==============================] - 0s 81ms/step\n",
            "[[4.6014204e-08]]\n"
          ]
        }
      ]
    },
    {
      "cell_type": "code",
      "source": [
        "model.save('finalmodel.h5')"
      ],
      "metadata": {
        "id": "DLpg6Jlz-f1-"
      },
      "id": "DLpg6Jlz-f1-",
      "execution_count": null,
      "outputs": []
    },
    {
      "cell_type": "code",
      "execution_count": null,
      "id": "640d7f05",
      "metadata": {
        "id": "640d7f05",
        "colab": {
          "base_uri": "https://localhost:8080/"
        },
        "outputId": "ef5b49fe-31cc-444f-cbdc-4dff76d0404c"
      },
      "outputs": [
        {
          "output_type": "stream",
          "name": "stdout",
          "text": [
            "[[113, 30]]\n",
            "1/1 [==============================] - 0s 28ms/step\n",
            "3.90540935768513e-06\n",
            "[[3.9054094e-06]]\n",
            "sangat buruk\n"
          ]
        }
      ],
      "source": [
        "sequence = tokenizer.texts_to_sequences(['jelek banget'])\n",
        "print(sequence)\n",
        "sequence = pad_sequences(sequence, maxlen=100)\n",
        "prediction = model.predict(sequence)\n",
        "\n",
        "sentiment = int(np.argmax(prediction))\n",
        "probability = max(prediction.tolist()[0])\n",
        "print(probability)\n",
        "print(prediction)\n",
        "if prediction > 0.5:\n",
        "  print(\"sangat bagus\")\n",
        "else :\n",
        "  print(\"sangat buruk\")"
      ]
    }
  ],
  "metadata": {
    "kernelspec": {
      "display_name": "Python 3",
      "name": "python3"
    },
    "language_info": {
      "codemirror_mode": {
        "name": "ipython",
        "version": 3
      },
      "file_extension": ".py",
      "mimetype": "text/x-python",
      "name": "python",
      "nbconvert_exporter": "python",
      "pygments_lexer": "ipython3",
      "version": "3.8.8"
    },
    "colab": {
      "provenance": [],
      "gpuType": "T4"
    },
    "accelerator": "GPU"
  },
  "nbformat": 4,
  "nbformat_minor": 5
}